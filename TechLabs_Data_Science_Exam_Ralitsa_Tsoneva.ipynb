{
  "nbformat": 4,
  "nbformat_minor": 0,
  "metadata": {
    "kernelspec": {
      "display_name": "Python 3",
      "language": "python",
      "name": "python3"
    },
    "language_info": {
      "codemirror_mode": {
        "name": "ipython",
        "version": 3
      },
      "file_extension": ".py",
      "mimetype": "text/x-python",
      "name": "python",
      "nbconvert_exporter": "python",
      "pygments_lexer": "ipython3",
      "version": "3.6.5"
    },
    "colab": {
      "name": "TechLabs Data Science Exam.ipynb",
      "provenance": []
    }
  },
  "cells": [
    {
      "cell_type": "markdown",
      "metadata": {
        "id": "Q3-eAPrNap0d"
      },
      "source": [
        "<img src=\"TechLabs.png\">"
      ]
    },
    {
      "cell_type": "markdown",
      "metadata": {
        "id": "gKCy5xMUap0j"
      },
      "source": [
        "<h2>Please enter your full name here: Ralitsa Tsoneva</h2>"
      ]
    },
    {
      "cell_type": "markdown",
      "metadata": {
        "id": "JqOwMHKCap0k"
      },
      "source": [
        "\n",
        "<p> This exam will test your knowledge in Data Science. </p>\n",
        "<p> We will test the following: </p>\n",
        "    \n",
        "- Basic knowledge in Data Science\n",
        "- How to manipulate data\n",
        "- How to clean data\n",
        "- Further data analysis"
      ]
    },
    {
      "cell_type": "markdown",
      "metadata": {
        "id": "AWtHjIcGap0k"
      },
      "source": [
        "<h2>1. Basic Knowledge Test</h2>"
      ]
    },
    {
      "cell_type": "markdown",
      "metadata": {
        "id": "0ZQj6Awxap0l"
      },
      "source": [
        "A) Create a dictionary and a list."
      ]
    },
    {
      "cell_type": "code",
      "metadata": {
        "id": "B3pW6kzsap0l"
      },
      "source": [
        "my_dict = {}\r\n",
        "my_list = []"
      ],
      "execution_count": 1,
      "outputs": []
    },
    {
      "cell_type": "markdown",
      "metadata": {
        "id": "3zWl92paap0l"
      },
      "source": [
        "B) Create your own array containing multiple lists (at least 5 rows and 4 columns)."
      ]
    },
    {
      "cell_type": "code",
      "metadata": {
        "colab": {
          "base_uri": "https://localhost:8080/"
        },
        "id": "wf8hUbunap0m",
        "outputId": "da039d9e-2412-40c3-c454-46acbe3cb663"
      },
      "source": [
        "import numpy as np\r\n",
        "import pandas as pd\r\n",
        "\r\n",
        "my_array = {'name': ['John', 'Ivan', 'Steve', 'Bill', 'Amanda'],\r\n",
        "            'age': [34, 23, 56, 31, 29],\r\n",
        "            'sex': ['M', 'M', 'M', 'M', 'F'],\r\n",
        "            'status': ['married', 'single', 'divorced', 'married', 'married']}\r\n",
        "\r\n",
        "my_array"
      ],
      "execution_count": 2,
      "outputs": [
        {
          "output_type": "execute_result",
          "data": {
            "text/plain": [
              "{'age': [34, 23, 56, 31, 29],\n",
              " 'name': ['John', 'Ivan', 'Steve', 'Bill', 'Amanda'],\n",
              " 'sex': ['M', 'M', 'M', 'M', 'F'],\n",
              " 'status': ['married', 'single', 'divorced', 'married', 'married']}"
            ]
          },
          "metadata": {
            "tags": []
          },
          "execution_count": 2
        }
      ]
    },
    {
      "cell_type": "markdown",
      "metadata": {
        "id": "B-PudbM6ap0m"
      },
      "source": [
        "C) Convert your previous array into a pandas dataframe."
      ]
    },
    {
      "cell_type": "code",
      "metadata": {
        "colab": {
          "base_uri": "https://localhost:8080/",
          "height": 197
        },
        "id": "zaW6WFfTap0m",
        "outputId": "742489cc-4ece-405b-f833-9c4075aff34e"
      },
      "source": [
        "df = pd.DataFrame(data= my_array)\r\n",
        "df"
      ],
      "execution_count": 3,
      "outputs": [
        {
          "output_type": "execute_result",
          "data": {
            "text/html": [
              "<div>\n",
              "<style scoped>\n",
              "    .dataframe tbody tr th:only-of-type {\n",
              "        vertical-align: middle;\n",
              "    }\n",
              "\n",
              "    .dataframe tbody tr th {\n",
              "        vertical-align: top;\n",
              "    }\n",
              "\n",
              "    .dataframe thead th {\n",
              "        text-align: right;\n",
              "    }\n",
              "</style>\n",
              "<table border=\"1\" class=\"dataframe\">\n",
              "  <thead>\n",
              "    <tr style=\"text-align: right;\">\n",
              "      <th></th>\n",
              "      <th>name</th>\n",
              "      <th>age</th>\n",
              "      <th>sex</th>\n",
              "      <th>status</th>\n",
              "    </tr>\n",
              "  </thead>\n",
              "  <tbody>\n",
              "    <tr>\n",
              "      <th>0</th>\n",
              "      <td>John</td>\n",
              "      <td>34</td>\n",
              "      <td>M</td>\n",
              "      <td>married</td>\n",
              "    </tr>\n",
              "    <tr>\n",
              "      <th>1</th>\n",
              "      <td>Ivan</td>\n",
              "      <td>23</td>\n",
              "      <td>M</td>\n",
              "      <td>single</td>\n",
              "    </tr>\n",
              "    <tr>\n",
              "      <th>2</th>\n",
              "      <td>Steve</td>\n",
              "      <td>56</td>\n",
              "      <td>M</td>\n",
              "      <td>divorced</td>\n",
              "    </tr>\n",
              "    <tr>\n",
              "      <th>3</th>\n",
              "      <td>Bill</td>\n",
              "      <td>31</td>\n",
              "      <td>M</td>\n",
              "      <td>married</td>\n",
              "    </tr>\n",
              "    <tr>\n",
              "      <th>4</th>\n",
              "      <td>Amanda</td>\n",
              "      <td>29</td>\n",
              "      <td>F</td>\n",
              "      <td>married</td>\n",
              "    </tr>\n",
              "  </tbody>\n",
              "</table>\n",
              "</div>"
            ],
            "text/plain": [
              "     name  age sex    status\n",
              "0    John   34   M   married\n",
              "1    Ivan   23   M    single\n",
              "2   Steve   56   M  divorced\n",
              "3    Bill   31   M   married\n",
              "4  Amanda   29   F   married"
            ]
          },
          "metadata": {
            "tags": []
          },
          "execution_count": 3
        }
      ]
    },
    {
      "cell_type": "markdown",
      "metadata": {
        "id": "7h52664xap0n"
      },
      "source": [
        " D) Please write a function that will start with the number 2 and will add 3 as long as the number is under 25."
      ]
    },
    {
      "cell_type": "code",
      "metadata": {
        "id": "173HWTNIap0n"
      },
      "source": [
        "x = 2\r\n",
        "def add_3_f():\r\n",
        "  while (n < 25):\r\n",
        "    n = n + 3\r\n",
        "  return n"
      ],
      "execution_count": 4,
      "outputs": []
    },
    {
      "cell_type": "markdown",
      "metadata": {
        "id": "Y9nhYNVGap0n"
      },
      "source": [
        "E) Briefly explain what a lambda function is and its benefits over using regular functions."
      ]
    },
    {
      "cell_type": "code",
      "metadata": {
        "id": "pAuDSlYHap0o"
      },
      "source": [
        "#Lambda refers to anonymous functions in programming.\r\n",
        "#It allows you to write quick throw away functions without naming them. It also provides a nice way to write closures."
      ],
      "execution_count": 5,
      "outputs": []
    },
    {
      "cell_type": "markdown",
      "metadata": {
        "id": "mzeFCtJOap0o"
      },
      "source": [
        "F) What is the difference between relational and non-relational databases?"
      ]
    },
    {
      "cell_type": "code",
      "metadata": {
        "id": "RvkiGLznap0o"
      },
      "source": [
        "# Relational databases also called SQL databases store data in a structured way, usually in tables that have logical connections which are visible in the database schema.\r\n",
        "# Non-relational databases also called non-SQL store data in a non-structured way and in all types of formats. Its storage model is optimized for the type of data it's storing. "
      ],
      "execution_count": 6,
      "outputs": []
    },
    {
      "cell_type": "markdown",
      "metadata": {
        "id": "Ej3ar9Xhap0o"
      },
      "source": [
        "<h2>2. Manipulating Data </h2>\n",
        "\n",
        "Dataset used: \"AB_NYC_2019.csv\" </p>\n",
        "In this part of the exam you will have to play around with a dataset and display subsets of the data."
      ]
    },
    {
      "cell_type": "code",
      "metadata": {
        "id": "vGbaZ3Llap0p"
      },
      "source": [
        "# Place all packages you need here\n",
        "import pandas as pd\n",
        "import numpy as np"
      ],
      "execution_count": 7,
      "outputs": []
    },
    {
      "cell_type": "markdown",
      "metadata": {
        "id": "YG6zjMToap0p"
      },
      "source": [
        "A) Load \"AB_NYC_2019.csv\",  drop all null values, and name it \"df\"."
      ]
    },
    {
      "cell_type": "code",
      "metadata": {
        "id": "5mI9WBK0ap0p"
      },
      "source": [
        "df = pd.read_csv('AB_NYC_2019.csv')\r\n",
        "df.dropna(inplace= True)"
      ],
      "execution_count": 8,
      "outputs": []
    },
    {
      "cell_type": "markdown",
      "metadata": {
        "id": "eiap9OcFap0p"
      },
      "source": [
        "B) Within the dataframe \"df\", permanently rename the column \"name\" to \"listing_name\"."
      ]
    },
    {
      "cell_type": "code",
      "metadata": {
        "id": "anVwV2ALap0p"
      },
      "source": [
        "df.rename(columns= {'name': 'listing_name'}, inplace= True)"
      ],
      "execution_count": 9,
      "outputs": []
    },
    {
      "cell_type": "code",
      "metadata": {
        "colab": {
          "base_uri": "https://localhost:8080/",
          "height": 793
        },
        "id": "VDH-0BcXrVj6",
        "outputId": "3d4ea501-b0ed-4020-e05b-2846aa385aea"
      },
      "source": [
        "df"
      ],
      "execution_count": 10,
      "outputs": [
        {
          "output_type": "execute_result",
          "data": {
            "text/html": [
              "<div>\n",
              "<style scoped>\n",
              "    .dataframe tbody tr th:only-of-type {\n",
              "        vertical-align: middle;\n",
              "    }\n",
              "\n",
              "    .dataframe tbody tr th {\n",
              "        vertical-align: top;\n",
              "    }\n",
              "\n",
              "    .dataframe thead th {\n",
              "        text-align: right;\n",
              "    }\n",
              "</style>\n",
              "<table border=\"1\" class=\"dataframe\">\n",
              "  <thead>\n",
              "    <tr style=\"text-align: right;\">\n",
              "      <th></th>\n",
              "      <th>id</th>\n",
              "      <th>listing_name</th>\n",
              "      <th>host_id</th>\n",
              "      <th>host_name</th>\n",
              "      <th>neighbourhood_group</th>\n",
              "      <th>neighbourhood</th>\n",
              "      <th>latitude</th>\n",
              "      <th>longitude</th>\n",
              "      <th>room_type</th>\n",
              "      <th>price</th>\n",
              "      <th>minimum_nights</th>\n",
              "      <th>number_of_reviews</th>\n",
              "      <th>last_review</th>\n",
              "      <th>reviews_per_month</th>\n",
              "      <th>calculated_host_listings_count</th>\n",
              "      <th>availability_365</th>\n",
              "    </tr>\n",
              "  </thead>\n",
              "  <tbody>\n",
              "    <tr>\n",
              "      <th>0</th>\n",
              "      <td>2539</td>\n",
              "      <td>Clean &amp; quiet apt home by the park</td>\n",
              "      <td>2787</td>\n",
              "      <td>John</td>\n",
              "      <td>Brooklyn</td>\n",
              "      <td>Kensington</td>\n",
              "      <td>40.64749</td>\n",
              "      <td>-73.97237</td>\n",
              "      <td>Private room</td>\n",
              "      <td>149</td>\n",
              "      <td>1</td>\n",
              "      <td>9</td>\n",
              "      <td>2018-10-19</td>\n",
              "      <td>0.21</td>\n",
              "      <td>6</td>\n",
              "      <td>365</td>\n",
              "    </tr>\n",
              "    <tr>\n",
              "      <th>1</th>\n",
              "      <td>2595</td>\n",
              "      <td>Skylit Midtown Castle</td>\n",
              "      <td>2845</td>\n",
              "      <td>Jennifer</td>\n",
              "      <td>Manhattan</td>\n",
              "      <td>Midtown</td>\n",
              "      <td>40.75362</td>\n",
              "      <td>-73.98377</td>\n",
              "      <td>Entire home/apt</td>\n",
              "      <td>225</td>\n",
              "      <td>1</td>\n",
              "      <td>45</td>\n",
              "      <td>2019-05-21</td>\n",
              "      <td>0.38</td>\n",
              "      <td>2</td>\n",
              "      <td>355</td>\n",
              "    </tr>\n",
              "    <tr>\n",
              "      <th>3</th>\n",
              "      <td>3831</td>\n",
              "      <td>Cozy Entire Floor of Brownstone</td>\n",
              "      <td>4869</td>\n",
              "      <td>LisaRoxanne</td>\n",
              "      <td>Brooklyn</td>\n",
              "      <td>Clinton Hill</td>\n",
              "      <td>40.68514</td>\n",
              "      <td>-73.95976</td>\n",
              "      <td>Entire home/apt</td>\n",
              "      <td>89</td>\n",
              "      <td>1</td>\n",
              "      <td>270</td>\n",
              "      <td>2019-07-05</td>\n",
              "      <td>4.64</td>\n",
              "      <td>1</td>\n",
              "      <td>194</td>\n",
              "    </tr>\n",
              "    <tr>\n",
              "      <th>4</th>\n",
              "      <td>5022</td>\n",
              "      <td>Entire Apt: Spacious Studio/Loft by central park</td>\n",
              "      <td>7192</td>\n",
              "      <td>Laura</td>\n",
              "      <td>Manhattan</td>\n",
              "      <td>East Harlem</td>\n",
              "      <td>40.79851</td>\n",
              "      <td>-73.94399</td>\n",
              "      <td>Entire home/apt</td>\n",
              "      <td>80</td>\n",
              "      <td>10</td>\n",
              "      <td>9</td>\n",
              "      <td>2018-11-19</td>\n",
              "      <td>0.10</td>\n",
              "      <td>1</td>\n",
              "      <td>0</td>\n",
              "    </tr>\n",
              "    <tr>\n",
              "      <th>5</th>\n",
              "      <td>5099</td>\n",
              "      <td>Large Cozy 1 BR Apartment In Midtown East</td>\n",
              "      <td>7322</td>\n",
              "      <td>Chris</td>\n",
              "      <td>Manhattan</td>\n",
              "      <td>Murray Hill</td>\n",
              "      <td>40.74767</td>\n",
              "      <td>-73.97500</td>\n",
              "      <td>Entire home/apt</td>\n",
              "      <td>200</td>\n",
              "      <td>3</td>\n",
              "      <td>74</td>\n",
              "      <td>2019-06-22</td>\n",
              "      <td>0.59</td>\n",
              "      <td>1</td>\n",
              "      <td>129</td>\n",
              "    </tr>\n",
              "    <tr>\n",
              "      <th>...</th>\n",
              "      <td>...</td>\n",
              "      <td>...</td>\n",
              "      <td>...</td>\n",
              "      <td>...</td>\n",
              "      <td>...</td>\n",
              "      <td>...</td>\n",
              "      <td>...</td>\n",
              "      <td>...</td>\n",
              "      <td>...</td>\n",
              "      <td>...</td>\n",
              "      <td>...</td>\n",
              "      <td>...</td>\n",
              "      <td>...</td>\n",
              "      <td>...</td>\n",
              "      <td>...</td>\n",
              "      <td>...</td>\n",
              "    </tr>\n",
              "    <tr>\n",
              "      <th>48782</th>\n",
              "      <td>36425863</td>\n",
              "      <td>Lovely Privet Bedroom with Privet Restroom</td>\n",
              "      <td>83554966</td>\n",
              "      <td>Rusaa</td>\n",
              "      <td>Manhattan</td>\n",
              "      <td>Upper East Side</td>\n",
              "      <td>40.78099</td>\n",
              "      <td>-73.95366</td>\n",
              "      <td>Private room</td>\n",
              "      <td>129</td>\n",
              "      <td>1</td>\n",
              "      <td>1</td>\n",
              "      <td>2019-07-07</td>\n",
              "      <td>1.00</td>\n",
              "      <td>1</td>\n",
              "      <td>147</td>\n",
              "    </tr>\n",
              "    <tr>\n",
              "      <th>48790</th>\n",
              "      <td>36427429</td>\n",
              "      <td>No.2 with queen size bed</td>\n",
              "      <td>257683179</td>\n",
              "      <td>H Ai</td>\n",
              "      <td>Queens</td>\n",
              "      <td>Flushing</td>\n",
              "      <td>40.75104</td>\n",
              "      <td>-73.81459</td>\n",
              "      <td>Private room</td>\n",
              "      <td>45</td>\n",
              "      <td>1</td>\n",
              "      <td>1</td>\n",
              "      <td>2019-07-07</td>\n",
              "      <td>1.00</td>\n",
              "      <td>6</td>\n",
              "      <td>339</td>\n",
              "    </tr>\n",
              "    <tr>\n",
              "      <th>48799</th>\n",
              "      <td>36438336</td>\n",
              "      <td>Seas The Moment</td>\n",
              "      <td>211644523</td>\n",
              "      <td>Ben</td>\n",
              "      <td>Staten Island</td>\n",
              "      <td>Great Kills</td>\n",
              "      <td>40.54179</td>\n",
              "      <td>-74.14275</td>\n",
              "      <td>Private room</td>\n",
              "      <td>235</td>\n",
              "      <td>1</td>\n",
              "      <td>1</td>\n",
              "      <td>2019-07-07</td>\n",
              "      <td>1.00</td>\n",
              "      <td>1</td>\n",
              "      <td>87</td>\n",
              "    </tr>\n",
              "    <tr>\n",
              "      <th>48805</th>\n",
              "      <td>36442252</td>\n",
              "      <td>1B-1B apartment near by Metro</td>\n",
              "      <td>273841667</td>\n",
              "      <td>Blaine</td>\n",
              "      <td>Bronx</td>\n",
              "      <td>Mott Haven</td>\n",
              "      <td>40.80787</td>\n",
              "      <td>-73.92400</td>\n",
              "      <td>Entire home/apt</td>\n",
              "      <td>100</td>\n",
              "      <td>1</td>\n",
              "      <td>2</td>\n",
              "      <td>2019-07-07</td>\n",
              "      <td>2.00</td>\n",
              "      <td>1</td>\n",
              "      <td>40</td>\n",
              "    </tr>\n",
              "    <tr>\n",
              "      <th>48852</th>\n",
              "      <td>36455809</td>\n",
              "      <td>Cozy Private Room in Bushwick, Brooklyn</td>\n",
              "      <td>74162901</td>\n",
              "      <td>Christine</td>\n",
              "      <td>Brooklyn</td>\n",
              "      <td>Bushwick</td>\n",
              "      <td>40.69805</td>\n",
              "      <td>-73.92801</td>\n",
              "      <td>Private room</td>\n",
              "      <td>30</td>\n",
              "      <td>1</td>\n",
              "      <td>1</td>\n",
              "      <td>2019-07-08</td>\n",
              "      <td>1.00</td>\n",
              "      <td>1</td>\n",
              "      <td>1</td>\n",
              "    </tr>\n",
              "  </tbody>\n",
              "</table>\n",
              "<p>38821 rows × 16 columns</p>\n",
              "</div>"
            ],
            "text/plain": [
              "             id  ... availability_365\n",
              "0          2539  ...              365\n",
              "1          2595  ...              355\n",
              "3          3831  ...              194\n",
              "4          5022  ...                0\n",
              "5          5099  ...              129\n",
              "...         ...  ...              ...\n",
              "48782  36425863  ...              147\n",
              "48790  36427429  ...              339\n",
              "48799  36438336  ...               87\n",
              "48805  36442252  ...               40\n",
              "48852  36455809  ...                1\n",
              "\n",
              "[38821 rows x 16 columns]"
            ]
          },
          "metadata": {
            "tags": []
          },
          "execution_count": 10
        }
      ]
    },
    {
      "cell_type": "markdown",
      "metadata": {
        "id": "6mV9VnqNap0q"
      },
      "source": [
        "C) Drop the column host_id. Save the new dataframe again under the name \"df\"."
      ]
    },
    {
      "cell_type": "code",
      "metadata": {
        "id": "cnaW_FARap0q"
      },
      "source": [
        "df.drop(columns= 'host_id', inplace= True)"
      ],
      "execution_count": 11,
      "outputs": []
    },
    {
      "cell_type": "code",
      "metadata": {
        "colab": {
          "base_uri": "https://localhost:8080/",
          "height": 401
        },
        "id": "8sEF79Cgrj_i",
        "outputId": "3b2fb8dc-c983-4afe-a7a7-fd3f54c0628e"
      },
      "source": [
        "df.head()"
      ],
      "execution_count": 12,
      "outputs": [
        {
          "output_type": "execute_result",
          "data": {
            "text/html": [
              "<div>\n",
              "<style scoped>\n",
              "    .dataframe tbody tr th:only-of-type {\n",
              "        vertical-align: middle;\n",
              "    }\n",
              "\n",
              "    .dataframe tbody tr th {\n",
              "        vertical-align: top;\n",
              "    }\n",
              "\n",
              "    .dataframe thead th {\n",
              "        text-align: right;\n",
              "    }\n",
              "</style>\n",
              "<table border=\"1\" class=\"dataframe\">\n",
              "  <thead>\n",
              "    <tr style=\"text-align: right;\">\n",
              "      <th></th>\n",
              "      <th>id</th>\n",
              "      <th>listing_name</th>\n",
              "      <th>host_name</th>\n",
              "      <th>neighbourhood_group</th>\n",
              "      <th>neighbourhood</th>\n",
              "      <th>latitude</th>\n",
              "      <th>longitude</th>\n",
              "      <th>room_type</th>\n",
              "      <th>price</th>\n",
              "      <th>minimum_nights</th>\n",
              "      <th>number_of_reviews</th>\n",
              "      <th>last_review</th>\n",
              "      <th>reviews_per_month</th>\n",
              "      <th>calculated_host_listings_count</th>\n",
              "      <th>availability_365</th>\n",
              "    </tr>\n",
              "  </thead>\n",
              "  <tbody>\n",
              "    <tr>\n",
              "      <th>0</th>\n",
              "      <td>2539</td>\n",
              "      <td>Clean &amp; quiet apt home by the park</td>\n",
              "      <td>John</td>\n",
              "      <td>Brooklyn</td>\n",
              "      <td>Kensington</td>\n",
              "      <td>40.64749</td>\n",
              "      <td>-73.97237</td>\n",
              "      <td>Private room</td>\n",
              "      <td>149</td>\n",
              "      <td>1</td>\n",
              "      <td>9</td>\n",
              "      <td>2018-10-19</td>\n",
              "      <td>0.21</td>\n",
              "      <td>6</td>\n",
              "      <td>365</td>\n",
              "    </tr>\n",
              "    <tr>\n",
              "      <th>1</th>\n",
              "      <td>2595</td>\n",
              "      <td>Skylit Midtown Castle</td>\n",
              "      <td>Jennifer</td>\n",
              "      <td>Manhattan</td>\n",
              "      <td>Midtown</td>\n",
              "      <td>40.75362</td>\n",
              "      <td>-73.98377</td>\n",
              "      <td>Entire home/apt</td>\n",
              "      <td>225</td>\n",
              "      <td>1</td>\n",
              "      <td>45</td>\n",
              "      <td>2019-05-21</td>\n",
              "      <td>0.38</td>\n",
              "      <td>2</td>\n",
              "      <td>355</td>\n",
              "    </tr>\n",
              "    <tr>\n",
              "      <th>3</th>\n",
              "      <td>3831</td>\n",
              "      <td>Cozy Entire Floor of Brownstone</td>\n",
              "      <td>LisaRoxanne</td>\n",
              "      <td>Brooklyn</td>\n",
              "      <td>Clinton Hill</td>\n",
              "      <td>40.68514</td>\n",
              "      <td>-73.95976</td>\n",
              "      <td>Entire home/apt</td>\n",
              "      <td>89</td>\n",
              "      <td>1</td>\n",
              "      <td>270</td>\n",
              "      <td>2019-07-05</td>\n",
              "      <td>4.64</td>\n",
              "      <td>1</td>\n",
              "      <td>194</td>\n",
              "    </tr>\n",
              "    <tr>\n",
              "      <th>4</th>\n",
              "      <td>5022</td>\n",
              "      <td>Entire Apt: Spacious Studio/Loft by central park</td>\n",
              "      <td>Laura</td>\n",
              "      <td>Manhattan</td>\n",
              "      <td>East Harlem</td>\n",
              "      <td>40.79851</td>\n",
              "      <td>-73.94399</td>\n",
              "      <td>Entire home/apt</td>\n",
              "      <td>80</td>\n",
              "      <td>10</td>\n",
              "      <td>9</td>\n",
              "      <td>2018-11-19</td>\n",
              "      <td>0.10</td>\n",
              "      <td>1</td>\n",
              "      <td>0</td>\n",
              "    </tr>\n",
              "    <tr>\n",
              "      <th>5</th>\n",
              "      <td>5099</td>\n",
              "      <td>Large Cozy 1 BR Apartment In Midtown East</td>\n",
              "      <td>Chris</td>\n",
              "      <td>Manhattan</td>\n",
              "      <td>Murray Hill</td>\n",
              "      <td>40.74767</td>\n",
              "      <td>-73.97500</td>\n",
              "      <td>Entire home/apt</td>\n",
              "      <td>200</td>\n",
              "      <td>3</td>\n",
              "      <td>74</td>\n",
              "      <td>2019-06-22</td>\n",
              "      <td>0.59</td>\n",
              "      <td>1</td>\n",
              "      <td>129</td>\n",
              "    </tr>\n",
              "  </tbody>\n",
              "</table>\n",
              "</div>"
            ],
            "text/plain": [
              "     id  ... availability_365\n",
              "0  2539  ...              365\n",
              "1  2595  ...              355\n",
              "3  3831  ...              194\n",
              "4  5022  ...                0\n",
              "5  5099  ...              129\n",
              "\n",
              "[5 rows x 15 columns]"
            ]
          },
          "metadata": {
            "tags": []
          },
          "execution_count": 12
        }
      ]
    },
    {
      "cell_type": "markdown",
      "metadata": {
        "id": "aEySzjgxap0q"
      },
      "source": [
        "D) Only show listings with a price higher than the average price. Sort the dataframe by price in an ascending order."
      ]
    },
    {
      "cell_type": "code",
      "metadata": {
        "colab": {
          "base_uri": "https://localhost:8080/",
          "height": 710
        },
        "id": "rA-FhZ2dap0q",
        "outputId": "a1f78bb8-4531-4650-bb90-f9888683f4ed"
      },
      "source": [
        "df.loc[df['price'] > df['price'].mean()].sort_values(['price'], axis = 0, ascending = True)\r\n"
      ],
      "execution_count": 13,
      "outputs": [
        {
          "output_type": "execute_result",
          "data": {
            "text/html": [
              "<div>\n",
              "<style scoped>\n",
              "    .dataframe tbody tr th:only-of-type {\n",
              "        vertical-align: middle;\n",
              "    }\n",
              "\n",
              "    .dataframe tbody tr th {\n",
              "        vertical-align: top;\n",
              "    }\n",
              "\n",
              "    .dataframe thead th {\n",
              "        text-align: right;\n",
              "    }\n",
              "</style>\n",
              "<table border=\"1\" class=\"dataframe\">\n",
              "  <thead>\n",
              "    <tr style=\"text-align: right;\">\n",
              "      <th></th>\n",
              "      <th>id</th>\n",
              "      <th>listing_name</th>\n",
              "      <th>host_name</th>\n",
              "      <th>neighbourhood_group</th>\n",
              "      <th>neighbourhood</th>\n",
              "      <th>latitude</th>\n",
              "      <th>longitude</th>\n",
              "      <th>room_type</th>\n",
              "      <th>price</th>\n",
              "      <th>minimum_nights</th>\n",
              "      <th>number_of_reviews</th>\n",
              "      <th>last_review</th>\n",
              "      <th>reviews_per_month</th>\n",
              "      <th>calculated_host_listings_count</th>\n",
              "      <th>availability_365</th>\n",
              "    </tr>\n",
              "  </thead>\n",
              "  <tbody>\n",
              "    <tr>\n",
              "      <th>16776</th>\n",
              "      <td>13395955</td>\n",
              "      <td>Adorable Prospect Heights 1 Bedroom</td>\n",
              "      <td>Nancy</td>\n",
              "      <td>Brooklyn</td>\n",
              "      <td>Prospect Heights</td>\n",
              "      <td>40.67649</td>\n",
              "      <td>-73.96697</td>\n",
              "      <td>Entire home/apt</td>\n",
              "      <td>143</td>\n",
              "      <td>31</td>\n",
              "      <td>3</td>\n",
              "      <td>2018-07-21</td>\n",
              "      <td>0.08</td>\n",
              "      <td>1</td>\n",
              "      <td>0</td>\n",
              "    </tr>\n",
              "    <tr>\n",
              "      <th>15285</th>\n",
              "      <td>12234139</td>\n",
              "      <td>1 Bedroom Outside Columbus Circle</td>\n",
              "      <td>Mckenzie</td>\n",
              "      <td>Manhattan</td>\n",
              "      <td>Upper West Side</td>\n",
              "      <td>40.77116</td>\n",
              "      <td>-73.98796</td>\n",
              "      <td>Entire home/apt</td>\n",
              "      <td>143</td>\n",
              "      <td>2</td>\n",
              "      <td>32</td>\n",
              "      <td>2019-04-22</td>\n",
              "      <td>0.81</td>\n",
              "      <td>1</td>\n",
              "      <td>0</td>\n",
              "    </tr>\n",
              "    <tr>\n",
              "      <th>15774</th>\n",
              "      <td>12755571</td>\n",
              "      <td>Studio in the heart of Manhattan</td>\n",
              "      <td>Nina</td>\n",
              "      <td>Manhattan</td>\n",
              "      <td>Midtown</td>\n",
              "      <td>40.75227</td>\n",
              "      <td>-73.97351</td>\n",
              "      <td>Entire home/apt</td>\n",
              "      <td>143</td>\n",
              "      <td>1</td>\n",
              "      <td>1</td>\n",
              "      <td>2016-05-13</td>\n",
              "      <td>0.03</td>\n",
              "      <td>1</td>\n",
              "      <td>0</td>\n",
              "    </tr>\n",
              "    <tr>\n",
              "      <th>37425</th>\n",
              "      <td>29699681</td>\n",
              "      <td>Sunny Penthouse with Williamsburg Bridge view</td>\n",
              "      <td>Laura</td>\n",
              "      <td>Brooklyn</td>\n",
              "      <td>Williamsburg</td>\n",
              "      <td>40.71093</td>\n",
              "      <td>-73.96407</td>\n",
              "      <td>Entire home/apt</td>\n",
              "      <td>143</td>\n",
              "      <td>5</td>\n",
              "      <td>2</td>\n",
              "      <td>2019-05-21</td>\n",
              "      <td>0.24</td>\n",
              "      <td>1</td>\n",
              "      <td>9</td>\n",
              "    </tr>\n",
              "    <tr>\n",
              "      <th>41791</th>\n",
              "      <td>32494256</td>\n",
              "      <td>Newly renovated 2 Bedroom Apartment</td>\n",
              "      <td>Victoria</td>\n",
              "      <td>Brooklyn</td>\n",
              "      <td>Clinton Hill</td>\n",
              "      <td>40.68771</td>\n",
              "      <td>-73.96304</td>\n",
              "      <td>Entire home/apt</td>\n",
              "      <td>143</td>\n",
              "      <td>2</td>\n",
              "      <td>22</td>\n",
              "      <td>2019-06-18</td>\n",
              "      <td>5.00</td>\n",
              "      <td>1</td>\n",
              "      <td>81</td>\n",
              "    </tr>\n",
              "    <tr>\n",
              "      <th>...</th>\n",
              "      <td>...</td>\n",
              "      <td>...</td>\n",
              "      <td>...</td>\n",
              "      <td>...</td>\n",
              "      <td>...</td>\n",
              "      <td>...</td>\n",
              "      <td>...</td>\n",
              "      <td>...</td>\n",
              "      <td>...</td>\n",
              "      <td>...</td>\n",
              "      <td>...</td>\n",
              "      <td>...</td>\n",
              "      <td>...</td>\n",
              "      <td>...</td>\n",
              "      <td>...</td>\n",
              "    </tr>\n",
              "    <tr>\n",
              "      <th>30268</th>\n",
              "      <td>23377410</td>\n",
              "      <td>Beautiful/Spacious 1 bed luxury flat-TriBeCa/Soho</td>\n",
              "      <td>Rum</td>\n",
              "      <td>Manhattan</td>\n",
              "      <td>Tribeca</td>\n",
              "      <td>40.72197</td>\n",
              "      <td>-74.00633</td>\n",
              "      <td>Entire home/apt</td>\n",
              "      <td>8500</td>\n",
              "      <td>30</td>\n",
              "      <td>2</td>\n",
              "      <td>2018-09-18</td>\n",
              "      <td>0.18</td>\n",
              "      <td>1</td>\n",
              "      <td>251</td>\n",
              "    </tr>\n",
              "    <tr>\n",
              "      <th>12342</th>\n",
              "      <td>9528920</td>\n",
              "      <td>Quiet, Clean, Lit @ LES &amp; Chinatown</td>\n",
              "      <td>Amy</td>\n",
              "      <td>Manhattan</td>\n",
              "      <td>Lower East Side</td>\n",
              "      <td>40.71355</td>\n",
              "      <td>-73.98507</td>\n",
              "      <td>Private room</td>\n",
              "      <td>9999</td>\n",
              "      <td>99</td>\n",
              "      <td>6</td>\n",
              "      <td>2016-01-01</td>\n",
              "      <td>0.14</td>\n",
              "      <td>1</td>\n",
              "      <td>83</td>\n",
              "    </tr>\n",
              "    <tr>\n",
              "      <th>6530</th>\n",
              "      <td>4737930</td>\n",
              "      <td>Spanish Harlem Apt</td>\n",
              "      <td>Olson</td>\n",
              "      <td>Manhattan</td>\n",
              "      <td>East Harlem</td>\n",
              "      <td>40.79264</td>\n",
              "      <td>-73.93898</td>\n",
              "      <td>Entire home/apt</td>\n",
              "      <td>9999</td>\n",
              "      <td>5</td>\n",
              "      <td>1</td>\n",
              "      <td>2015-01-02</td>\n",
              "      <td>0.02</td>\n",
              "      <td>1</td>\n",
              "      <td>0</td>\n",
              "    </tr>\n",
              "    <tr>\n",
              "      <th>9151</th>\n",
              "      <td>7003697</td>\n",
              "      <td>Furnished room in Astoria apartment</td>\n",
              "      <td>Kathrine</td>\n",
              "      <td>Queens</td>\n",
              "      <td>Astoria</td>\n",
              "      <td>40.76810</td>\n",
              "      <td>-73.91651</td>\n",
              "      <td>Private room</td>\n",
              "      <td>10000</td>\n",
              "      <td>100</td>\n",
              "      <td>2</td>\n",
              "      <td>2016-02-13</td>\n",
              "      <td>0.04</td>\n",
              "      <td>1</td>\n",
              "      <td>0</td>\n",
              "    </tr>\n",
              "    <tr>\n",
              "      <th>17692</th>\n",
              "      <td>13894339</td>\n",
              "      <td>Luxury 1 bedroom apt. -stunning Manhattan views</td>\n",
              "      <td>Erin</td>\n",
              "      <td>Brooklyn</td>\n",
              "      <td>Greenpoint</td>\n",
              "      <td>40.73260</td>\n",
              "      <td>-73.95739</td>\n",
              "      <td>Entire home/apt</td>\n",
              "      <td>10000</td>\n",
              "      <td>5</td>\n",
              "      <td>5</td>\n",
              "      <td>2017-07-27</td>\n",
              "      <td>0.16</td>\n",
              "      <td>1</td>\n",
              "      <td>0</td>\n",
              "    </tr>\n",
              "  </tbody>\n",
              "</table>\n",
              "<p>13372 rows × 15 columns</p>\n",
              "</div>"
            ],
            "text/plain": [
              "             id  ... availability_365\n",
              "16776  13395955  ...                0\n",
              "15285  12234139  ...                0\n",
              "15774  12755571  ...                0\n",
              "37425  29699681  ...                9\n",
              "41791  32494256  ...               81\n",
              "...         ...  ...              ...\n",
              "30268  23377410  ...              251\n",
              "12342   9528920  ...               83\n",
              "6530    4737930  ...                0\n",
              "9151    7003697  ...                0\n",
              "17692  13894339  ...                0\n",
              "\n",
              "[13372 rows x 15 columns]"
            ]
          },
          "metadata": {
            "tags": []
          },
          "execution_count": 13
        }
      ]
    },
    {
      "cell_type": "markdown",
      "metadata": {
        "id": "dE-eXpN-ap0r"
      },
      "source": [
        "E) Only show listings that have more than the average reviews and that are available for more than 10 nights (column \"minimum_nights\"). Sort the dataframe by reviews in a descending order."
      ]
    },
    {
      "cell_type": "code",
      "metadata": {
        "colab": {
          "base_uri": "https://localhost:8080/",
          "height": 743
        },
        "id": "PxHBRLtV3DG2",
        "outputId": "781fa672-15a1-4322-f437-66bbe3a0f0d5"
      },
      "source": [
        "df.loc[(df['number_of_reviews'] > df['number_of_reviews'].mean()) & (df['minimum_nights'] > 10)].sort_values(['number_of_reviews'], axis = 0, ascending = False)"
      ],
      "execution_count": 14,
      "outputs": [
        {
          "output_type": "execute_result",
          "data": {
            "text/html": [
              "<div>\n",
              "<style scoped>\n",
              "    .dataframe tbody tr th:only-of-type {\n",
              "        vertical-align: middle;\n",
              "    }\n",
              "\n",
              "    .dataframe tbody tr th {\n",
              "        vertical-align: top;\n",
              "    }\n",
              "\n",
              "    .dataframe thead th {\n",
              "        text-align: right;\n",
              "    }\n",
              "</style>\n",
              "<table border=\"1\" class=\"dataframe\">\n",
              "  <thead>\n",
              "    <tr style=\"text-align: right;\">\n",
              "      <th></th>\n",
              "      <th>id</th>\n",
              "      <th>listing_name</th>\n",
              "      <th>host_name</th>\n",
              "      <th>neighbourhood_group</th>\n",
              "      <th>neighbourhood</th>\n",
              "      <th>latitude</th>\n",
              "      <th>longitude</th>\n",
              "      <th>room_type</th>\n",
              "      <th>price</th>\n",
              "      <th>minimum_nights</th>\n",
              "      <th>number_of_reviews</th>\n",
              "      <th>last_review</th>\n",
              "      <th>reviews_per_month</th>\n",
              "      <th>calculated_host_listings_count</th>\n",
              "      <th>availability_365</th>\n",
              "    </tr>\n",
              "  </thead>\n",
              "  <tbody>\n",
              "    <tr>\n",
              "      <th>113</th>\n",
              "      <td>26785</td>\n",
              "      <td>Park Slope Green Guest House</td>\n",
              "      <td>Dani</td>\n",
              "      <td>Brooklyn</td>\n",
              "      <td>South Slope</td>\n",
              "      <td>40.66853</td>\n",
              "      <td>-73.98912</td>\n",
              "      <td>Entire home/apt</td>\n",
              "      <td>120</td>\n",
              "      <td>30</td>\n",
              "      <td>467</td>\n",
              "      <td>2018-12-30</td>\n",
              "      <td>4.22</td>\n",
              "      <td>2</td>\n",
              "      <td>192</td>\n",
              "    </tr>\n",
              "    <tr>\n",
              "      <th>3605</th>\n",
              "      <td>2154075</td>\n",
              "      <td>Brooklyn Charm, Close to Manhattan (30+ Days O...</td>\n",
              "      <td>Joni</td>\n",
              "      <td>Brooklyn</td>\n",
              "      <td>Bedford-Stuyvesant</td>\n",
              "      <td>40.68640</td>\n",
              "      <td>-73.94529</td>\n",
              "      <td>Entire home/apt</td>\n",
              "      <td>112</td>\n",
              "      <td>200</td>\n",
              "      <td>314</td>\n",
              "      <td>2019-06-20</td>\n",
              "      <td>4.82</td>\n",
              "      <td>2</td>\n",
              "      <td>42</td>\n",
              "    </tr>\n",
              "    <tr>\n",
              "      <th>1242</th>\n",
              "      <td>531091</td>\n",
              "      <td>King size bedroom in 2 bed apartment</td>\n",
              "      <td>Dragan</td>\n",
              "      <td>Queens</td>\n",
              "      <td>Astoria</td>\n",
              "      <td>40.75532</td>\n",
              "      <td>-73.91603</td>\n",
              "      <td>Private room</td>\n",
              "      <td>109</td>\n",
              "      <td>30</td>\n",
              "      <td>304</td>\n",
              "      <td>2019-06-19</td>\n",
              "      <td>3.70</td>\n",
              "      <td>1</td>\n",
              "      <td>0</td>\n",
              "    </tr>\n",
              "    <tr>\n",
              "      <th>7984</th>\n",
              "      <td>6141401</td>\n",
              "      <td>Large Alcove Studio</td>\n",
              "      <td>Jon</td>\n",
              "      <td>Manhattan</td>\n",
              "      <td>Kips Bay</td>\n",
              "      <td>40.74257</td>\n",
              "      <td>-73.98207</td>\n",
              "      <td>Entire home/apt</td>\n",
              "      <td>225</td>\n",
              "      <td>30</td>\n",
              "      <td>276</td>\n",
              "      <td>2019-06-21</td>\n",
              "      <td>5.54</td>\n",
              "      <td>1</td>\n",
              "      <td>338</td>\n",
              "    </tr>\n",
              "    <tr>\n",
              "      <th>6375</th>\n",
              "      <td>4644632</td>\n",
              "      <td>Brooklyn Life, Easy to Manhattan (30+ Days only)</td>\n",
              "      <td>Joni</td>\n",
              "      <td>Brooklyn</td>\n",
              "      <td>Bedford-Stuyvesant</td>\n",
              "      <td>40.68797</td>\n",
              "      <td>-73.94696</td>\n",
              "      <td>Entire home/apt</td>\n",
              "      <td>130</td>\n",
              "      <td>200</td>\n",
              "      <td>271</td>\n",
              "      <td>2019-07-03</td>\n",
              "      <td>4.84</td>\n",
              "      <td>2</td>\n",
              "      <td>64</td>\n",
              "    </tr>\n",
              "    <tr>\n",
              "      <th>...</th>\n",
              "      <td>...</td>\n",
              "      <td>...</td>\n",
              "      <td>...</td>\n",
              "      <td>...</td>\n",
              "      <td>...</td>\n",
              "      <td>...</td>\n",
              "      <td>...</td>\n",
              "      <td>...</td>\n",
              "      <td>...</td>\n",
              "      <td>...</td>\n",
              "      <td>...</td>\n",
              "      <td>...</td>\n",
              "      <td>...</td>\n",
              "      <td>...</td>\n",
              "      <td>...</td>\n",
              "    </tr>\n",
              "    <tr>\n",
              "      <th>2095</th>\n",
              "      <td>949713</td>\n",
              "      <td>Luxury Duplex Loft w. Private Roof &amp; Amazing V...</td>\n",
              "      <td>Tal</td>\n",
              "      <td>Brooklyn</td>\n",
              "      <td>Gowanus</td>\n",
              "      <td>40.67450</td>\n",
              "      <td>-73.99582</td>\n",
              "      <td>Entire home/apt</td>\n",
              "      <td>400</td>\n",
              "      <td>30</td>\n",
              "      <td>30</td>\n",
              "      <td>2019-06-01</td>\n",
              "      <td>0.39</td>\n",
              "      <td>1</td>\n",
              "      <td>67</td>\n",
              "    </tr>\n",
              "    <tr>\n",
              "      <th>496</th>\n",
              "      <td>174966</td>\n",
              "      <td>Luxury 2Bed/2.5Bath Central Park View</td>\n",
              "      <td>Henry</td>\n",
              "      <td>Manhattan</td>\n",
              "      <td>Upper West Side</td>\n",
              "      <td>40.77350</td>\n",
              "      <td>-73.98697</td>\n",
              "      <td>Entire home/apt</td>\n",
              "      <td>2000</td>\n",
              "      <td>30</td>\n",
              "      <td>30</td>\n",
              "      <td>2018-05-05</td>\n",
              "      <td>0.33</td>\n",
              "      <td>11</td>\n",
              "      <td>0</td>\n",
              "    </tr>\n",
              "    <tr>\n",
              "      <th>296</th>\n",
              "      <td>68735</td>\n",
              "      <td>Prewar Penthouse w Private Terrace</td>\n",
              "      <td>Violetta</td>\n",
              "      <td>Manhattan</td>\n",
              "      <td>Upper West Side</td>\n",
              "      <td>40.78971</td>\n",
              "      <td>-73.97290</td>\n",
              "      <td>Entire home/apt</td>\n",
              "      <td>195</td>\n",
              "      <td>11</td>\n",
              "      <td>30</td>\n",
              "      <td>2019-06-13</td>\n",
              "      <td>0.32</td>\n",
              "      <td>1</td>\n",
              "      <td>249</td>\n",
              "    </tr>\n",
              "    <tr>\n",
              "      <th>10746</th>\n",
              "      <td>8270710</td>\n",
              "      <td>Gorgeous sunny apt steps to park!</td>\n",
              "      <td>Eric And Aoife</td>\n",
              "      <td>Brooklyn</td>\n",
              "      <td>Windsor Terrace</td>\n",
              "      <td>40.65106</td>\n",
              "      <td>-73.97704</td>\n",
              "      <td>Entire home/apt</td>\n",
              "      <td>99</td>\n",
              "      <td>20</td>\n",
              "      <td>30</td>\n",
              "      <td>2017-06-11</td>\n",
              "      <td>0.65</td>\n",
              "      <td>2</td>\n",
              "      <td>65</td>\n",
              "    </tr>\n",
              "    <tr>\n",
              "      <th>188</th>\n",
              "      <td>47362</td>\n",
              "      <td>LARGE, COMFY 1BDR W/CHARACTER!!!</td>\n",
              "      <td>Robert</td>\n",
              "      <td>Brooklyn</td>\n",
              "      <td>Bedford-Stuyvesant</td>\n",
              "      <td>40.68237</td>\n",
              "      <td>-73.94150</td>\n",
              "      <td>Entire home/apt</td>\n",
              "      <td>175</td>\n",
              "      <td>26</td>\n",
              "      <td>30</td>\n",
              "      <td>2012-09-03</td>\n",
              "      <td>0.29</td>\n",
              "      <td>1</td>\n",
              "      <td>364</td>\n",
              "    </tr>\n",
              "  </tbody>\n",
              "</table>\n",
              "<p>469 rows × 15 columns</p>\n",
              "</div>"
            ],
            "text/plain": [
              "            id  ... availability_365\n",
              "113      26785  ...              192\n",
              "3605   2154075  ...               42\n",
              "1242    531091  ...                0\n",
              "7984   6141401  ...              338\n",
              "6375   4644632  ...               64\n",
              "...        ...  ...              ...\n",
              "2095    949713  ...               67\n",
              "496     174966  ...                0\n",
              "296      68735  ...              249\n",
              "10746  8270710  ...               65\n",
              "188      47362  ...              364\n",
              "\n",
              "[469 rows x 15 columns]"
            ]
          },
          "metadata": {
            "tags": []
          },
          "execution_count": 14
        }
      ]
    },
    {
      "cell_type": "markdown",
      "metadata": {
        "id": "8Jr8ybguap0r"
      },
      "source": [
        "F) Display the number of listings per neighbourhood and only display those neighbourhoods with more than 1000 listings."
      ]
    },
    {
      "cell_type": "code",
      "metadata": {
        "id": "QJMBAIQF_vG9"
      },
      "source": [
        "#df_by_neighbourhood = df.groupby(by= 'neighbourhood').count()\r\n",
        "#df_by_neighbourhood = df_by_neighbourhood['id']\r\n",
        "#df_by_neighbourhood.reset_index()\r\n",
        "#df_by_neighbourhood.rename(columns={'id': 'count_id'}, inplace= True)\r\n"
      ],
      "execution_count": 15,
      "outputs": []
    },
    {
      "cell_type": "code",
      "metadata": {
        "id": "dXutiQl2FR-c",
        "colab": {
          "base_uri": "https://localhost:8080/",
          "height": 347
        },
        "outputId": "bdb57f83-f3c1-4600-cd28-d708b8ba1f60"
      },
      "source": [
        "grouped_df = df.groupby(by = 'neighbourhood').count()\r\n",
        "grouped_df = grouped_df[['id']]\r\n",
        "\r\n",
        "grouped_df.loc[grouped_df['id'] > 1000]"
      ],
      "execution_count": 16,
      "outputs": [
        {
          "output_type": "execute_result",
          "data": {
            "text/html": [
              "<div>\n",
              "<style scoped>\n",
              "    .dataframe tbody tr th:only-of-type {\n",
              "        vertical-align: middle;\n",
              "    }\n",
              "\n",
              "    .dataframe tbody tr th {\n",
              "        vertical-align: top;\n",
              "    }\n",
              "\n",
              "    .dataframe thead th {\n",
              "        text-align: right;\n",
              "    }\n",
              "</style>\n",
              "<table border=\"1\" class=\"dataframe\">\n",
              "  <thead>\n",
              "    <tr style=\"text-align: right;\">\n",
              "      <th></th>\n",
              "      <th>id</th>\n",
              "    </tr>\n",
              "    <tr>\n",
              "      <th>neighbourhood</th>\n",
              "      <th></th>\n",
              "    </tr>\n",
              "  </thead>\n",
              "  <tbody>\n",
              "    <tr>\n",
              "      <th>Bedford-Stuyvesant</th>\n",
              "      <td>3141</td>\n",
              "    </tr>\n",
              "    <tr>\n",
              "      <th>Bushwick</th>\n",
              "      <td>1942</td>\n",
              "    </tr>\n",
              "    <tr>\n",
              "      <th>Crown Heights</th>\n",
              "      <td>1265</td>\n",
              "    </tr>\n",
              "    <tr>\n",
              "      <th>East Village</th>\n",
              "      <td>1489</td>\n",
              "    </tr>\n",
              "    <tr>\n",
              "      <th>Harlem</th>\n",
              "      <td>2204</td>\n",
              "    </tr>\n",
              "    <tr>\n",
              "      <th>Hell's Kitchen</th>\n",
              "      <td>1528</td>\n",
              "    </tr>\n",
              "    <tr>\n",
              "      <th>Upper East Side</th>\n",
              "      <td>1405</td>\n",
              "    </tr>\n",
              "    <tr>\n",
              "      <th>Upper West Side</th>\n",
              "      <td>1482</td>\n",
              "    </tr>\n",
              "    <tr>\n",
              "      <th>Williamsburg</th>\n",
              "      <td>3163</td>\n",
              "    </tr>\n",
              "  </tbody>\n",
              "</table>\n",
              "</div>"
            ],
            "text/plain": [
              "                      id\n",
              "neighbourhood           \n",
              "Bedford-Stuyvesant  3141\n",
              "Bushwick            1942\n",
              "Crown Heights       1265\n",
              "East Village        1489\n",
              "Harlem              2204\n",
              "Hell's Kitchen      1528\n",
              "Upper East Side     1405\n",
              "Upper West Side     1482\n",
              "Williamsburg        3163"
            ]
          },
          "metadata": {
            "tags": []
          },
          "execution_count": 16
        }
      ]
    },
    {
      "cell_type": "code",
      "metadata": {
        "id": "v_p02BUoFKCp"
      },
      "source": [
        ""
      ],
      "execution_count": 16,
      "outputs": []
    },
    {
      "cell_type": "markdown",
      "metadata": {
        "id": "ULurO2J5ap0s"
      },
      "source": [
        "G) Display the number of the different types of rooms (column \"room_type\") per neighbourhood."
      ]
    },
    {
      "cell_type": "code",
      "metadata": {
        "id": "wl50QUmjap0s",
        "colab": {
          "base_uri": "https://localhost:8080/"
        },
        "outputId": "67dc3fe7-8933-49c4-909f-5e0ac805be88"
      },
      "source": [
        "grouped_multiple = df.groupby(['neighbourhood', 'room_type'], as_index= False)\r\n",
        "\r\n",
        "grouped_multiple"
      ],
      "execution_count": 17,
      "outputs": [
        {
          "output_type": "execute_result",
          "data": {
            "text/plain": [
              "<pandas.core.groupby.generic.DataFrameGroupBy object at 0x7fa3c0d2dd50>"
            ]
          },
          "metadata": {
            "tags": []
          },
          "execution_count": 17
        }
      ]
    },
    {
      "cell_type": "code",
      "metadata": {
        "id": "Xuf_rCmiN88N"
      },
      "source": [
        ""
      ],
      "execution_count": 17,
      "outputs": []
    },
    {
      "cell_type": "markdown",
      "metadata": {
        "id": "eJimzxkXap0s"
      },
      "source": [
        "H) Replace the values within \"room_type\" with numerical values, i.e. 0 for \"private room\", 1 for \"Entire home/apt\", and 2 for \"Shared room\". </p>\n",
        "Save the new dataframe again under the name \"df\"."
      ]
    },
    {
      "cell_type": "code",
      "metadata": {
        "id": "pvbqW_S_ap0s",
        "colab": {
          "base_uri": "https://localhost:8080/"
        },
        "outputId": "d8482b6c-430a-4d1a-aff7-3168b14cbea0"
      },
      "source": [
        "df.loc[df['room_type'] == 'Private room', 'room_type'] = 0\r\n",
        "df.loc[df['room_type'] == 'Entire home/apt', 'room_type'] = 1\r\n",
        "df.loc[df['room_type'] == 'Shared room', 'room_type'] = 2\r\n",
        "\r\n",
        "df['room_type'].unique()"
      ],
      "execution_count": 18,
      "outputs": [
        {
          "output_type": "execute_result",
          "data": {
            "text/plain": [
              "array([0, 1, 2], dtype=object)"
            ]
          },
          "metadata": {
            "tags": []
          },
          "execution_count": 18
        }
      ]
    },
    {
      "cell_type": "markdown",
      "metadata": {
        "id": "TI01hnpvap0t"
      },
      "source": [
        "I) Display a bar chart using the distplot (from the seaborn library) that shows the neighbourhood on the x-axis and the number of listings on the y-axis."
      ]
    },
    {
      "cell_type": "code",
      "metadata": {
        "id": "QWgyXElMap0t",
        "colab": {
          "base_uri": "https://localhost:8080/",
          "height": 407
        },
        "outputId": "0bf70d3a-ddb2-43e1-e1ec-e5c82e462d7f"
      },
      "source": [
        "grouped_df.reset_index()\r\n"
      ],
      "execution_count": 19,
      "outputs": [
        {
          "output_type": "execute_result",
          "data": {
            "text/html": [
              "<div>\n",
              "<style scoped>\n",
              "    .dataframe tbody tr th:only-of-type {\n",
              "        vertical-align: middle;\n",
              "    }\n",
              "\n",
              "    .dataframe tbody tr th {\n",
              "        vertical-align: top;\n",
              "    }\n",
              "\n",
              "    .dataframe thead th {\n",
              "        text-align: right;\n",
              "    }\n",
              "</style>\n",
              "<table border=\"1\" class=\"dataframe\">\n",
              "  <thead>\n",
              "    <tr style=\"text-align: right;\">\n",
              "      <th></th>\n",
              "      <th>neighbourhood</th>\n",
              "      <th>id</th>\n",
              "    </tr>\n",
              "  </thead>\n",
              "  <tbody>\n",
              "    <tr>\n",
              "      <th>0</th>\n",
              "      <td>Allerton</td>\n",
              "      <td>37</td>\n",
              "    </tr>\n",
              "    <tr>\n",
              "      <th>1</th>\n",
              "      <td>Arden Heights</td>\n",
              "      <td>4</td>\n",
              "    </tr>\n",
              "    <tr>\n",
              "      <th>2</th>\n",
              "      <td>Arrochar</td>\n",
              "      <td>20</td>\n",
              "    </tr>\n",
              "    <tr>\n",
              "      <th>3</th>\n",
              "      <td>Arverne</td>\n",
              "      <td>66</td>\n",
              "    </tr>\n",
              "    <tr>\n",
              "      <th>4</th>\n",
              "      <td>Astoria</td>\n",
              "      <td>709</td>\n",
              "    </tr>\n",
              "    <tr>\n",
              "      <th>...</th>\n",
              "      <td>...</td>\n",
              "      <td>...</td>\n",
              "    </tr>\n",
              "    <tr>\n",
              "      <th>213</th>\n",
              "      <td>Willowbrook</td>\n",
              "      <td>1</td>\n",
              "    </tr>\n",
              "    <tr>\n",
              "      <th>214</th>\n",
              "      <td>Windsor Terrace</td>\n",
              "      <td>128</td>\n",
              "    </tr>\n",
              "    <tr>\n",
              "      <th>215</th>\n",
              "      <td>Woodhaven</td>\n",
              "      <td>72</td>\n",
              "    </tr>\n",
              "    <tr>\n",
              "      <th>216</th>\n",
              "      <td>Woodlawn</td>\n",
              "      <td>11</td>\n",
              "    </tr>\n",
              "    <tr>\n",
              "      <th>217</th>\n",
              "      <td>Woodside</td>\n",
              "      <td>170</td>\n",
              "    </tr>\n",
              "  </tbody>\n",
              "</table>\n",
              "<p>218 rows × 2 columns</p>\n",
              "</div>"
            ],
            "text/plain": [
              "       neighbourhood   id\n",
              "0           Allerton   37\n",
              "1      Arden Heights    4\n",
              "2           Arrochar   20\n",
              "3            Arverne   66\n",
              "4            Astoria  709\n",
              "..               ...  ...\n",
              "213      Willowbrook    1\n",
              "214  Windsor Terrace  128\n",
              "215        Woodhaven   72\n",
              "216         Woodlawn   11\n",
              "217         Woodside  170\n",
              "\n",
              "[218 rows x 2 columns]"
            ]
          },
          "metadata": {
            "tags": []
          },
          "execution_count": 19
        }
      ]
    },
    {
      "cell_type": "code",
      "metadata": {
        "colab": {
          "base_uri": "https://localhost:8080/",
          "height": 307
        },
        "id": "_bsaWepgYHwB",
        "outputId": "1f74a880-1ae9-40a4-f9b0-43ee74e0f1d6"
      },
      "source": [
        "import seaborn as sns\r\n",
        "sns.barplot(data=grouped_df, x=df[\"neighbourhood\"], y=df[\"id\"])"
      ],
      "execution_count": 20,
      "outputs": [
        {
          "output_type": "execute_result",
          "data": {
            "text/plain": [
              "<matplotlib.axes._subplots.AxesSubplot at 0x7fa3b0af5bd0>"
            ]
          },
          "metadata": {
            "tags": []
          },
          "execution_count": 20
        },
        {
          "output_type": "display_data",
          "data": {
            "image/png": "[encoded data removed]",
            "text/plain": [
              "<Figure size 432x288 with 1 Axes>"
            ]
          },
          "metadata": {
            "tags": [],
            "needs_background": "light"
          }
        }
      ]
    },
    {
      "cell_type": "markdown",
      "metadata": {
        "id": "whYzu2fHap0t"
      },
      "source": [
        "J) Scale the column \"price\" and the column \"number_of_reviews\" using a method that seems appropriate in your opinion. </p>\n",
        "Save the new dataframe again under the name \"df\"."
      ]
    },
    {
      "cell_type": "code",
      "metadata": {
        "id": "zP6OuG1Iap0t"
      },
      "source": [
        "from sklearn import preprocessing\r\n",
        "\r\n",
        "x = df[['price', 'number_of_reviews']].values #returns a numpy array\r\n",
        "min_max_scaler = preprocessing.MinMaxScaler()\r\n",
        "x_scaled = min_max_scaler.fit_transform(x)\r\n",
        "df_new = pd.DataFrame(x_scaled)\r\n",
        "\r\n",
        "df_new.rename(columns = {0: 'price_scaled', 1: 'number_of_reviews_scaled'}, inplace= True)\r\n",
        "\r\n",
        "df = df.join(df_new)\r\n"
      ],
      "execution_count": 21,
      "outputs": []
    },
    {
      "cell_type": "code",
      "metadata": {
        "colab": {
          "base_uri": "https://localhost:8080/",
          "height": 793
        },
        "id": "pOwhcYXIgAUa",
        "outputId": "70024fc9-bd16-4478-fbc6-d6c274f88acf"
      },
      "source": [
        "df"
      ],
      "execution_count": 22,
      "outputs": [
        {
          "output_type": "execute_result",
          "data": {
            "text/html": [
              "<div>\n",
              "<style scoped>\n",
              "    .dataframe tbody tr th:only-of-type {\n",
              "        vertical-align: middle;\n",
              "    }\n",
              "\n",
              "    .dataframe tbody tr th {\n",
              "        vertical-align: top;\n",
              "    }\n",
              "\n",
              "    .dataframe thead th {\n",
              "        text-align: right;\n",
              "    }\n",
              "</style>\n",
              "<table border=\"1\" class=\"dataframe\">\n",
              "  <thead>\n",
              "    <tr style=\"text-align: right;\">\n",
              "      <th></th>\n",
              "      <th>id</th>\n",
              "      <th>listing_name</th>\n",
              "      <th>host_name</th>\n",
              "      <th>neighbourhood_group</th>\n",
              "      <th>neighbourhood</th>\n",
              "      <th>latitude</th>\n",
              "      <th>longitude</th>\n",
              "      <th>room_type</th>\n",
              "      <th>price</th>\n",
              "      <th>minimum_nights</th>\n",
              "      <th>number_of_reviews</th>\n",
              "      <th>last_review</th>\n",
              "      <th>reviews_per_month</th>\n",
              "      <th>calculated_host_listings_count</th>\n",
              "      <th>availability_365</th>\n",
              "      <th>price_scaled</th>\n",
              "      <th>number_of_reviews_scaled</th>\n",
              "    </tr>\n",
              "  </thead>\n",
              "  <tbody>\n",
              "    <tr>\n",
              "      <th>0</th>\n",
              "      <td>2539</td>\n",
              "      <td>Clean &amp; quiet apt home by the park</td>\n",
              "      <td>John</td>\n",
              "      <td>Brooklyn</td>\n",
              "      <td>Kensington</td>\n",
              "      <td>40.64749</td>\n",
              "      <td>-73.97237</td>\n",
              "      <td>0</td>\n",
              "      <td>149</td>\n",
              "      <td>1</td>\n",
              "      <td>9</td>\n",
              "      <td>2018-10-19</td>\n",
              "      <td>0.21</td>\n",
              "      <td>6</td>\n",
              "      <td>365</td>\n",
              "      <td>0.0149</td>\n",
              "      <td>0.012739</td>\n",
              "    </tr>\n",
              "    <tr>\n",
              "      <th>1</th>\n",
              "      <td>2595</td>\n",
              "      <td>Skylit Midtown Castle</td>\n",
              "      <td>Jennifer</td>\n",
              "      <td>Manhattan</td>\n",
              "      <td>Midtown</td>\n",
              "      <td>40.75362</td>\n",
              "      <td>-73.98377</td>\n",
              "      <td>1</td>\n",
              "      <td>225</td>\n",
              "      <td>1</td>\n",
              "      <td>45</td>\n",
              "      <td>2019-05-21</td>\n",
              "      <td>0.38</td>\n",
              "      <td>2</td>\n",
              "      <td>355</td>\n",
              "      <td>0.0225</td>\n",
              "      <td>0.070064</td>\n",
              "    </tr>\n",
              "    <tr>\n",
              "      <th>3</th>\n",
              "      <td>3831</td>\n",
              "      <td>Cozy Entire Floor of Brownstone</td>\n",
              "      <td>LisaRoxanne</td>\n",
              "      <td>Brooklyn</td>\n",
              "      <td>Clinton Hill</td>\n",
              "      <td>40.68514</td>\n",
              "      <td>-73.95976</td>\n",
              "      <td>1</td>\n",
              "      <td>89</td>\n",
              "      <td>1</td>\n",
              "      <td>270</td>\n",
              "      <td>2019-07-05</td>\n",
              "      <td>4.64</td>\n",
              "      <td>1</td>\n",
              "      <td>194</td>\n",
              "      <td>0.0080</td>\n",
              "      <td>0.012739</td>\n",
              "    </tr>\n",
              "    <tr>\n",
              "      <th>4</th>\n",
              "      <td>5022</td>\n",
              "      <td>Entire Apt: Spacious Studio/Loft by central park</td>\n",
              "      <td>Laura</td>\n",
              "      <td>Manhattan</td>\n",
              "      <td>East Harlem</td>\n",
              "      <td>40.79851</td>\n",
              "      <td>-73.94399</td>\n",
              "      <td>1</td>\n",
              "      <td>80</td>\n",
              "      <td>10</td>\n",
              "      <td>9</td>\n",
              "      <td>2018-11-19</td>\n",
              "      <td>0.10</td>\n",
              "      <td>1</td>\n",
              "      <td>0</td>\n",
              "      <td>0.0200</td>\n",
              "      <td>0.116242</td>\n",
              "    </tr>\n",
              "    <tr>\n",
              "      <th>5</th>\n",
              "      <td>5099</td>\n",
              "      <td>Large Cozy 1 BR Apartment In Midtown East</td>\n",
              "      <td>Chris</td>\n",
              "      <td>Manhattan</td>\n",
              "      <td>Murray Hill</td>\n",
              "      <td>40.74767</td>\n",
              "      <td>-73.97500</td>\n",
              "      <td>1</td>\n",
              "      <td>200</td>\n",
              "      <td>3</td>\n",
              "      <td>74</td>\n",
              "      <td>2019-06-22</td>\n",
              "      <td>0.59</td>\n",
              "      <td>1</td>\n",
              "      <td>129</td>\n",
              "      <td>0.0060</td>\n",
              "      <td>0.076433</td>\n",
              "    </tr>\n",
              "    <tr>\n",
              "      <th>...</th>\n",
              "      <td>...</td>\n",
              "      <td>...</td>\n",
              "      <td>...</td>\n",
              "      <td>...</td>\n",
              "      <td>...</td>\n",
              "      <td>...</td>\n",
              "      <td>...</td>\n",
              "      <td>...</td>\n",
              "      <td>...</td>\n",
              "      <td>...</td>\n",
              "      <td>...</td>\n",
              "      <td>...</td>\n",
              "      <td>...</td>\n",
              "      <td>...</td>\n",
              "      <td>...</td>\n",
              "      <td>...</td>\n",
              "      <td>...</td>\n",
              "    </tr>\n",
              "    <tr>\n",
              "      <th>48782</th>\n",
              "      <td>36425863</td>\n",
              "      <td>Lovely Privet Bedroom with Privet Restroom</td>\n",
              "      <td>Rusaa</td>\n",
              "      <td>Manhattan</td>\n",
              "      <td>Upper East Side</td>\n",
              "      <td>40.78099</td>\n",
              "      <td>-73.95366</td>\n",
              "      <td>0</td>\n",
              "      <td>129</td>\n",
              "      <td>1</td>\n",
              "      <td>1</td>\n",
              "      <td>2019-07-07</td>\n",
              "      <td>1.00</td>\n",
              "      <td>1</td>\n",
              "      <td>147</td>\n",
              "      <td>NaN</td>\n",
              "      <td>NaN</td>\n",
              "    </tr>\n",
              "    <tr>\n",
              "      <th>48790</th>\n",
              "      <td>36427429</td>\n",
              "      <td>No.2 with queen size bed</td>\n",
              "      <td>H Ai</td>\n",
              "      <td>Queens</td>\n",
              "      <td>Flushing</td>\n",
              "      <td>40.75104</td>\n",
              "      <td>-73.81459</td>\n",
              "      <td>0</td>\n",
              "      <td>45</td>\n",
              "      <td>1</td>\n",
              "      <td>1</td>\n",
              "      <td>2019-07-07</td>\n",
              "      <td>1.00</td>\n",
              "      <td>6</td>\n",
              "      <td>339</td>\n",
              "      <td>NaN</td>\n",
              "      <td>NaN</td>\n",
              "    </tr>\n",
              "    <tr>\n",
              "      <th>48799</th>\n",
              "      <td>36438336</td>\n",
              "      <td>Seas The Moment</td>\n",
              "      <td>Ben</td>\n",
              "      <td>Staten Island</td>\n",
              "      <td>Great Kills</td>\n",
              "      <td>40.54179</td>\n",
              "      <td>-74.14275</td>\n",
              "      <td>0</td>\n",
              "      <td>235</td>\n",
              "      <td>1</td>\n",
              "      <td>1</td>\n",
              "      <td>2019-07-07</td>\n",
              "      <td>1.00</td>\n",
              "      <td>1</td>\n",
              "      <td>87</td>\n",
              "      <td>NaN</td>\n",
              "      <td>NaN</td>\n",
              "    </tr>\n",
              "    <tr>\n",
              "      <th>48805</th>\n",
              "      <td>36442252</td>\n",
              "      <td>1B-1B apartment near by Metro</td>\n",
              "      <td>Blaine</td>\n",
              "      <td>Bronx</td>\n",
              "      <td>Mott Haven</td>\n",
              "      <td>40.80787</td>\n",
              "      <td>-73.92400</td>\n",
              "      <td>1</td>\n",
              "      <td>100</td>\n",
              "      <td>1</td>\n",
              "      <td>2</td>\n",
              "      <td>2019-07-07</td>\n",
              "      <td>2.00</td>\n",
              "      <td>1</td>\n",
              "      <td>40</td>\n",
              "      <td>NaN</td>\n",
              "      <td>NaN</td>\n",
              "    </tr>\n",
              "    <tr>\n",
              "      <th>48852</th>\n",
              "      <td>36455809</td>\n",
              "      <td>Cozy Private Room in Bushwick, Brooklyn</td>\n",
              "      <td>Christine</td>\n",
              "      <td>Brooklyn</td>\n",
              "      <td>Bushwick</td>\n",
              "      <td>40.69805</td>\n",
              "      <td>-73.92801</td>\n",
              "      <td>0</td>\n",
              "      <td>30</td>\n",
              "      <td>1</td>\n",
              "      <td>1</td>\n",
              "      <td>2019-07-08</td>\n",
              "      <td>1.00</td>\n",
              "      <td>1</td>\n",
              "      <td>1</td>\n",
              "      <td>NaN</td>\n",
              "      <td>NaN</td>\n",
              "    </tr>\n",
              "  </tbody>\n",
              "</table>\n",
              "<p>38821 rows × 17 columns</p>\n",
              "</div>"
            ],
            "text/plain": [
              "             id  ... number_of_reviews_scaled\n",
              "0          2539  ...                 0.012739\n",
              "1          2595  ...                 0.070064\n",
              "3          3831  ...                 0.012739\n",
              "4          5022  ...                 0.116242\n",
              "5          5099  ...                 0.076433\n",
              "...         ...  ...                      ...\n",
              "48782  36425863  ...                      NaN\n",
              "48790  36427429  ...                      NaN\n",
              "48799  36438336  ...                      NaN\n",
              "48805  36442252  ...                      NaN\n",
              "48852  36455809  ...                      NaN\n",
              "\n",
              "[38821 rows x 17 columns]"
            ]
          },
          "metadata": {
            "tags": []
          },
          "execution_count": 22
        }
      ]
    },
    {
      "cell_type": "markdown",
      "metadata": {
        "id": "iZUNxiHOap0u"
      },
      "source": [
        "<h2>3. Cleaning Data</h2>\n",
        "\n",
        "Dataset used: \"defaults.xls\""
      ]
    },
    {
      "cell_type": "code",
      "metadata": {
        "id": "PfmqjDryap0u"
      },
      "source": [
        "# Place all packages you need here\n"
      ],
      "execution_count": 23,
      "outputs": []
    },
    {
      "cell_type": "markdown",
      "metadata": {
        "id": "ieCWDtMxap0u"
      },
      "source": [
        "A) Load the dataset \"defaults.xls\" and save it under the name \"defaults\". Display the datatypes of all columns of the dataset \"defaults.xls\"."
      ]
    },
    {
      "cell_type": "code",
      "metadata": {
        "id": "aU80Z44tap0u",
        "colab": {
          "base_uri": "https://localhost:8080/"
        },
        "outputId": "b1b7a105-7755-43e3-d3bb-ebc07cceec65"
      },
      "source": [
        "defaults = pd.read_excel('defaults.xls')\r\n",
        "defaults.dtypes"
      ],
      "execution_count": 24,
      "outputs": [
        {
          "output_type": "execute_result",
          "data": {
            "text/plain": [
              "ID               int64\n",
              "CREDIT_LIMIT     int64\n",
              "SEX             object\n",
              "EDUCATION       object\n",
              "MARRIAGE        object\n",
              "AGE              int64\n",
              "default          int64\n",
              "dtype: object"
            ]
          },
          "metadata": {
            "tags": []
          },
          "execution_count": 24
        }
      ]
    },
    {
      "cell_type": "code",
      "metadata": {
        "colab": {
          "base_uri": "https://localhost:8080/",
          "height": 197
        },
        "id": "6ZCI36P_jLdt",
        "outputId": "5e859604-b60c-4470-d549-2067500d5551"
      },
      "source": [
        "defaults.head()"
      ],
      "execution_count": 25,
      "outputs": [
        {
          "output_type": "execute_result",
          "data": {
            "text/html": [
              "<div>\n",
              "<style scoped>\n",
              "    .dataframe tbody tr th:only-of-type {\n",
              "        vertical-align: middle;\n",
              "    }\n",
              "\n",
              "    .dataframe tbody tr th {\n",
              "        vertical-align: top;\n",
              "    }\n",
              "\n",
              "    .dataframe thead th {\n",
              "        text-align: right;\n",
              "    }\n",
              "</style>\n",
              "<table border=\"1\" class=\"dataframe\">\n",
              "  <thead>\n",
              "    <tr style=\"text-align: right;\">\n",
              "      <th></th>\n",
              "      <th>ID</th>\n",
              "      <th>CREDIT_LIMIT</th>\n",
              "      <th>SEX</th>\n",
              "      <th>EDUCATION</th>\n",
              "      <th>MARRIAGE</th>\n",
              "      <th>AGE</th>\n",
              "      <th>default</th>\n",
              "    </tr>\n",
              "  </thead>\n",
              "  <tbody>\n",
              "    <tr>\n",
              "      <th>0</th>\n",
              "      <td>1</td>\n",
              "      <td>20000</td>\n",
              "      <td>female</td>\n",
              "      <td>university</td>\n",
              "      <td>married</td>\n",
              "      <td>24</td>\n",
              "      <td>1</td>\n",
              "    </tr>\n",
              "    <tr>\n",
              "      <th>1</th>\n",
              "      <td>2</td>\n",
              "      <td>120000</td>\n",
              "      <td>female</td>\n",
              "      <td>university</td>\n",
              "      <td>single</td>\n",
              "      <td>26</td>\n",
              "      <td>1</td>\n",
              "    </tr>\n",
              "    <tr>\n",
              "      <th>2</th>\n",
              "      <td>3</td>\n",
              "      <td>90000</td>\n",
              "      <td>female</td>\n",
              "      <td>university</td>\n",
              "      <td>single</td>\n",
              "      <td>34</td>\n",
              "      <td>0</td>\n",
              "    </tr>\n",
              "    <tr>\n",
              "      <th>3</th>\n",
              "      <td>4</td>\n",
              "      <td>50000</td>\n",
              "      <td>female</td>\n",
              "      <td>university</td>\n",
              "      <td>married</td>\n",
              "      <td>37</td>\n",
              "      <td>0</td>\n",
              "    </tr>\n",
              "    <tr>\n",
              "      <th>4</th>\n",
              "      <td>5</td>\n",
              "      <td>50000</td>\n",
              "      <td>male</td>\n",
              "      <td>university</td>\n",
              "      <td>married</td>\n",
              "      <td>57</td>\n",
              "      <td>0</td>\n",
              "    </tr>\n",
              "  </tbody>\n",
              "</table>\n",
              "</div>"
            ],
            "text/plain": [
              "   ID  CREDIT_LIMIT     SEX   EDUCATION MARRIAGE  AGE  default\n",
              "0   1         20000  female  university  married   24        1\n",
              "1   2        120000  female  university   single   26        1\n",
              "2   3         90000  female  university   single   34        0\n",
              "3   4         50000  female  university  married   37        0\n",
              "4   5         50000    male  university  married   57        0"
            ]
          },
          "metadata": {
            "tags": []
          },
          "execution_count": 25
        }
      ]
    },
    {
      "cell_type": "markdown",
      "metadata": {
        "id": "iO8e-x8Bap0u"
      },
      "source": [
        "B) Some column(s) might not be needed. Get rid of them. Explain why you get rid of the respective column(s). </p>\n",
        "Save the new dataframe again under the name \"defaults\"."
      ]
    },
    {
      "cell_type": "code",
      "metadata": {
        "id": "oF8pQ9Mxap0v",
        "colab": {
          "base_uri": "https://localhost:8080/",
          "height": 407
        },
        "outputId": "4e75f1ef-f6ca-4a71-d4e9-5bbf460026f5"
      },
      "source": [
        "# I will only get rid of the 'ID' column as it is not adding any value to the analysis, high cardinality (all values are diff)\r\n",
        "\r\n",
        "defaults.drop(columns = 'ID', inplace= True)\r\n",
        "defaults"
      ],
      "execution_count": 26,
      "outputs": [
        {
          "output_type": "execute_result",
          "data": {
            "text/html": [
              "<div>\n",
              "<style scoped>\n",
              "    .dataframe tbody tr th:only-of-type {\n",
              "        vertical-align: middle;\n",
              "    }\n",
              "\n",
              "    .dataframe tbody tr th {\n",
              "        vertical-align: top;\n",
              "    }\n",
              "\n",
              "    .dataframe thead th {\n",
              "        text-align: right;\n",
              "    }\n",
              "</style>\n",
              "<table border=\"1\" class=\"dataframe\">\n",
              "  <thead>\n",
              "    <tr style=\"text-align: right;\">\n",
              "      <th></th>\n",
              "      <th>CREDIT_LIMIT</th>\n",
              "      <th>SEX</th>\n",
              "      <th>EDUCATION</th>\n",
              "      <th>MARRIAGE</th>\n",
              "      <th>AGE</th>\n",
              "      <th>default</th>\n",
              "    </tr>\n",
              "  </thead>\n",
              "  <tbody>\n",
              "    <tr>\n",
              "      <th>0</th>\n",
              "      <td>20000</td>\n",
              "      <td>female</td>\n",
              "      <td>university</td>\n",
              "      <td>married</td>\n",
              "      <td>24</td>\n",
              "      <td>1</td>\n",
              "    </tr>\n",
              "    <tr>\n",
              "      <th>1</th>\n",
              "      <td>120000</td>\n",
              "      <td>female</td>\n",
              "      <td>university</td>\n",
              "      <td>single</td>\n",
              "      <td>26</td>\n",
              "      <td>1</td>\n",
              "    </tr>\n",
              "    <tr>\n",
              "      <th>2</th>\n",
              "      <td>90000</td>\n",
              "      <td>female</td>\n",
              "      <td>university</td>\n",
              "      <td>single</td>\n",
              "      <td>34</td>\n",
              "      <td>0</td>\n",
              "    </tr>\n",
              "    <tr>\n",
              "      <th>3</th>\n",
              "      <td>50000</td>\n",
              "      <td>female</td>\n",
              "      <td>university</td>\n",
              "      <td>married</td>\n",
              "      <td>37</td>\n",
              "      <td>0</td>\n",
              "    </tr>\n",
              "    <tr>\n",
              "      <th>4</th>\n",
              "      <td>50000</td>\n",
              "      <td>male</td>\n",
              "      <td>university</td>\n",
              "      <td>married</td>\n",
              "      <td>57</td>\n",
              "      <td>0</td>\n",
              "    </tr>\n",
              "    <tr>\n",
              "      <th>...</th>\n",
              "      <td>...</td>\n",
              "      <td>...</td>\n",
              "      <td>...</td>\n",
              "      <td>...</td>\n",
              "      <td>...</td>\n",
              "      <td>...</td>\n",
              "    </tr>\n",
              "    <tr>\n",
              "      <th>29596</th>\n",
              "      <td>220000</td>\n",
              "      <td>male</td>\n",
              "      <td>high school</td>\n",
              "      <td>married</td>\n",
              "      <td>39</td>\n",
              "      <td>0</td>\n",
              "    </tr>\n",
              "    <tr>\n",
              "      <th>29597</th>\n",
              "      <td>150000</td>\n",
              "      <td>male</td>\n",
              "      <td>high school</td>\n",
              "      <td>single</td>\n",
              "      <td>43</td>\n",
              "      <td>0</td>\n",
              "    </tr>\n",
              "    <tr>\n",
              "      <th>29598</th>\n",
              "      <td>30000</td>\n",
              "      <td>male</td>\n",
              "      <td>university</td>\n",
              "      <td>single</td>\n",
              "      <td>37</td>\n",
              "      <td>1</td>\n",
              "    </tr>\n",
              "    <tr>\n",
              "      <th>29599</th>\n",
              "      <td>80000</td>\n",
              "      <td>male</td>\n",
              "      <td>high school</td>\n",
              "      <td>married</td>\n",
              "      <td>41</td>\n",
              "      <td>1</td>\n",
              "    </tr>\n",
              "    <tr>\n",
              "      <th>29600</th>\n",
              "      <td>50000</td>\n",
              "      <td>male</td>\n",
              "      <td>university</td>\n",
              "      <td>married</td>\n",
              "      <td>46</td>\n",
              "      <td>1</td>\n",
              "    </tr>\n",
              "  </tbody>\n",
              "</table>\n",
              "<p>29601 rows × 6 columns</p>\n",
              "</div>"
            ],
            "text/plain": [
              "       CREDIT_LIMIT     SEX    EDUCATION MARRIAGE  AGE  default\n",
              "0             20000  female   university  married   24        1\n",
              "1            120000  female   university   single   26        1\n",
              "2             90000  female   university   single   34        0\n",
              "3             50000  female   university  married   37        0\n",
              "4             50000    male   university  married   57        0\n",
              "...             ...     ...          ...      ...  ...      ...\n",
              "29596        220000    male  high school  married   39        0\n",
              "29597        150000    male  high school   single   43        0\n",
              "29598         30000    male   university   single   37        1\n",
              "29599         80000    male  high school  married   41        1\n",
              "29600         50000    male   university  married   46        1\n",
              "\n",
              "[29601 rows x 6 columns]"
            ]
          },
          "metadata": {
            "tags": []
          },
          "execution_count": 26
        }
      ]
    },
    {
      "cell_type": "markdown",
      "metadata": {
        "id": "SooCGyCVap0v"
      },
      "source": [
        "C) Convert all categorical values into dummy variables. Only include columns with valuable information. </p>\n",
        "Save the new dataframe again under the name \"defaults\"."
      ]
    },
    {
      "cell_type": "code",
      "metadata": {
        "id": "uyQrYs4Gap0v",
        "colab": {
          "base_uri": "https://localhost:8080/",
          "height": 214
        },
        "outputId": "1203f1bd-eeb7-470b-c874-f69a189605ad"
      },
      "source": [
        "dummy = pd.get_dummies(defaults[['SEX', 'EDUCATION', 'MARRIAGE']])\r\n",
        "dummy.head()"
      ],
      "execution_count": 27,
      "outputs": [
        {
          "output_type": "execute_result",
          "data": {
            "text/html": [
              "<div>\n",
              "<style scoped>\n",
              "    .dataframe tbody tr th:only-of-type {\n",
              "        vertical-align: middle;\n",
              "    }\n",
              "\n",
              "    .dataframe tbody tr th {\n",
              "        vertical-align: top;\n",
              "    }\n",
              "\n",
              "    .dataframe thead th {\n",
              "        text-align: right;\n",
              "    }\n",
              "</style>\n",
              "<table border=\"1\" class=\"dataframe\">\n",
              "  <thead>\n",
              "    <tr style=\"text-align: right;\">\n",
              "      <th></th>\n",
              "      <th>SEX_female</th>\n",
              "      <th>SEX_male</th>\n",
              "      <th>EDUCATION_graduate school</th>\n",
              "      <th>EDUCATION_high school</th>\n",
              "      <th>EDUCATION_others</th>\n",
              "      <th>EDUCATION_university</th>\n",
              "      <th>MARRIAGE_married</th>\n",
              "      <th>MARRIAGE_others</th>\n",
              "      <th>MARRIAGE_single</th>\n",
              "    </tr>\n",
              "  </thead>\n",
              "  <tbody>\n",
              "    <tr>\n",
              "      <th>0</th>\n",
              "      <td>1</td>\n",
              "      <td>0</td>\n",
              "      <td>0</td>\n",
              "      <td>0</td>\n",
              "      <td>0</td>\n",
              "      <td>1</td>\n",
              "      <td>1</td>\n",
              "      <td>0</td>\n",
              "      <td>0</td>\n",
              "    </tr>\n",
              "    <tr>\n",
              "      <th>1</th>\n",
              "      <td>1</td>\n",
              "      <td>0</td>\n",
              "      <td>0</td>\n",
              "      <td>0</td>\n",
              "      <td>0</td>\n",
              "      <td>1</td>\n",
              "      <td>0</td>\n",
              "      <td>0</td>\n",
              "      <td>1</td>\n",
              "    </tr>\n",
              "    <tr>\n",
              "      <th>2</th>\n",
              "      <td>1</td>\n",
              "      <td>0</td>\n",
              "      <td>0</td>\n",
              "      <td>0</td>\n",
              "      <td>0</td>\n",
              "      <td>1</td>\n",
              "      <td>0</td>\n",
              "      <td>0</td>\n",
              "      <td>1</td>\n",
              "    </tr>\n",
              "    <tr>\n",
              "      <th>3</th>\n",
              "      <td>1</td>\n",
              "      <td>0</td>\n",
              "      <td>0</td>\n",
              "      <td>0</td>\n",
              "      <td>0</td>\n",
              "      <td>1</td>\n",
              "      <td>1</td>\n",
              "      <td>0</td>\n",
              "      <td>0</td>\n",
              "    </tr>\n",
              "    <tr>\n",
              "      <th>4</th>\n",
              "      <td>0</td>\n",
              "      <td>1</td>\n",
              "      <td>0</td>\n",
              "      <td>0</td>\n",
              "      <td>0</td>\n",
              "      <td>1</td>\n",
              "      <td>1</td>\n",
              "      <td>0</td>\n",
              "      <td>0</td>\n",
              "    </tr>\n",
              "  </tbody>\n",
              "</table>\n",
              "</div>"
            ],
            "text/plain": [
              "   SEX_female  SEX_male  ...  MARRIAGE_others  MARRIAGE_single\n",
              "0           1         0  ...                0                0\n",
              "1           1         0  ...                0                1\n",
              "2           1         0  ...                0                1\n",
              "3           1         0  ...                0                0\n",
              "4           0         1  ...                0                0\n",
              "\n",
              "[5 rows x 9 columns]"
            ]
          },
          "metadata": {
            "tags": []
          },
          "execution_count": 27
        }
      ]
    },
    {
      "cell_type": "code",
      "metadata": {
        "colab": {
          "base_uri": "https://localhost:8080/",
          "height": 234
        },
        "id": "Klzfm34HkdDG",
        "outputId": "00ccf9ea-06de-448f-e55a-7d1ed9e1d3c1"
      },
      "source": [
        "defaults = pd.concat([defaults, dummy], axis = 1 )\r\n",
        "defaults.head()"
      ],
      "execution_count": 28,
      "outputs": [
        {
          "output_type": "execute_result",
          "data": {
            "text/html": [
              "<div>\n",
              "<style scoped>\n",
              "    .dataframe tbody tr th:only-of-type {\n",
              "        vertical-align: middle;\n",
              "    }\n",
              "\n",
              "    .dataframe tbody tr th {\n",
              "        vertical-align: top;\n",
              "    }\n",
              "\n",
              "    .dataframe thead th {\n",
              "        text-align: right;\n",
              "    }\n",
              "</style>\n",
              "<table border=\"1\" class=\"dataframe\">\n",
              "  <thead>\n",
              "    <tr style=\"text-align: right;\">\n",
              "      <th></th>\n",
              "      <th>CREDIT_LIMIT</th>\n",
              "      <th>SEX</th>\n",
              "      <th>EDUCATION</th>\n",
              "      <th>MARRIAGE</th>\n",
              "      <th>AGE</th>\n",
              "      <th>default</th>\n",
              "      <th>SEX_female</th>\n",
              "      <th>SEX_male</th>\n",
              "      <th>EDUCATION_graduate school</th>\n",
              "      <th>EDUCATION_high school</th>\n",
              "      <th>EDUCATION_others</th>\n",
              "      <th>EDUCATION_university</th>\n",
              "      <th>MARRIAGE_married</th>\n",
              "      <th>MARRIAGE_others</th>\n",
              "      <th>MARRIAGE_single</th>\n",
              "    </tr>\n",
              "  </thead>\n",
              "  <tbody>\n",
              "    <tr>\n",
              "      <th>0</th>\n",
              "      <td>20000</td>\n",
              "      <td>female</td>\n",
              "      <td>university</td>\n",
              "      <td>married</td>\n",
              "      <td>24</td>\n",
              "      <td>1</td>\n",
              "      <td>1</td>\n",
              "      <td>0</td>\n",
              "      <td>0</td>\n",
              "      <td>0</td>\n",
              "      <td>0</td>\n",
              "      <td>1</td>\n",
              "      <td>1</td>\n",
              "      <td>0</td>\n",
              "      <td>0</td>\n",
              "    </tr>\n",
              "    <tr>\n",
              "      <th>1</th>\n",
              "      <td>120000</td>\n",
              "      <td>female</td>\n",
              "      <td>university</td>\n",
              "      <td>single</td>\n",
              "      <td>26</td>\n",
              "      <td>1</td>\n",
              "      <td>1</td>\n",
              "      <td>0</td>\n",
              "      <td>0</td>\n",
              "      <td>0</td>\n",
              "      <td>0</td>\n",
              "      <td>1</td>\n",
              "      <td>0</td>\n",
              "      <td>0</td>\n",
              "      <td>1</td>\n",
              "    </tr>\n",
              "    <tr>\n",
              "      <th>2</th>\n",
              "      <td>90000</td>\n",
              "      <td>female</td>\n",
              "      <td>university</td>\n",
              "      <td>single</td>\n",
              "      <td>34</td>\n",
              "      <td>0</td>\n",
              "      <td>1</td>\n",
              "      <td>0</td>\n",
              "      <td>0</td>\n",
              "      <td>0</td>\n",
              "      <td>0</td>\n",
              "      <td>1</td>\n",
              "      <td>0</td>\n",
              "      <td>0</td>\n",
              "      <td>1</td>\n",
              "    </tr>\n",
              "    <tr>\n",
              "      <th>3</th>\n",
              "      <td>50000</td>\n",
              "      <td>female</td>\n",
              "      <td>university</td>\n",
              "      <td>married</td>\n",
              "      <td>37</td>\n",
              "      <td>0</td>\n",
              "      <td>1</td>\n",
              "      <td>0</td>\n",
              "      <td>0</td>\n",
              "      <td>0</td>\n",
              "      <td>0</td>\n",
              "      <td>1</td>\n",
              "      <td>1</td>\n",
              "      <td>0</td>\n",
              "      <td>0</td>\n",
              "    </tr>\n",
              "    <tr>\n",
              "      <th>4</th>\n",
              "      <td>50000</td>\n",
              "      <td>male</td>\n",
              "      <td>university</td>\n",
              "      <td>married</td>\n",
              "      <td>57</td>\n",
              "      <td>0</td>\n",
              "      <td>0</td>\n",
              "      <td>1</td>\n",
              "      <td>0</td>\n",
              "      <td>0</td>\n",
              "      <td>0</td>\n",
              "      <td>1</td>\n",
              "      <td>1</td>\n",
              "      <td>0</td>\n",
              "      <td>0</td>\n",
              "    </tr>\n",
              "  </tbody>\n",
              "</table>\n",
              "</div>"
            ],
            "text/plain": [
              "   CREDIT_LIMIT     SEX  ... MARRIAGE_others MARRIAGE_single\n",
              "0         20000  female  ...               0               0\n",
              "1        120000  female  ...               0               1\n",
              "2         90000  female  ...               0               1\n",
              "3         50000  female  ...               0               0\n",
              "4         50000    male  ...               0               0\n",
              "\n",
              "[5 rows x 15 columns]"
            ]
          },
          "metadata": {
            "tags": []
          },
          "execution_count": 28
        }
      ]
    },
    {
      "cell_type": "code",
      "metadata": {
        "colab": {
          "base_uri": "https://localhost:8080/"
        },
        "id": "67DSAu7ZqOQh",
        "outputId": "53f0319f-8d30-4604-b4ad-34a94f5c8fd1"
      },
      "source": [
        "defaults.columns"
      ],
      "execution_count": 29,
      "outputs": [
        {
          "output_type": "execute_result",
          "data": {
            "text/plain": [
              "Index(['CREDIT_LIMIT', 'SEX', 'EDUCATION', 'MARRIAGE', 'AGE', 'default',\n",
              "       'SEX_female', 'SEX_male', 'EDUCATION_graduate school',\n",
              "       'EDUCATION_high school', 'EDUCATION_others', 'EDUCATION_university',\n",
              "       'MARRIAGE_married', 'MARRIAGE_others', 'MARRIAGE_single'],\n",
              "      dtype='object')"
            ]
          },
          "metadata": {
            "tags": []
          },
          "execution_count": 29
        }
      ]
    },
    {
      "cell_type": "markdown",
      "metadata": {
        "id": "nd-q9Pu6ap0v"
      },
      "source": [
        "D) In order to run a model, we have to define now the X and y variables. Set the y values to the \"default\" (either 0 or 1). The remaining columns represent the X values."
      ]
    },
    {
      "cell_type": "code",
      "metadata": {
        "id": "b8G6-t_qap0v"
      },
      "source": [
        "y = defaults['default']\r\n",
        "X = defaults[['CREDIT_LIMIT', 'AGE',\r\n",
        "       'SEX_female', 'SEX_male', 'EDUCATION_graduate school',\r\n",
        "       'EDUCATION_high school', 'EDUCATION_others', 'EDUCATION_university',\r\n",
        "       'MARRIAGE_married', 'MARRIAGE_others', 'MARRIAGE_single']]"
      ],
      "execution_count": 31,
      "outputs": []
    },
    {
      "cell_type": "markdown",
      "metadata": {
        "id": "kFeK71BFap0v"
      },
      "source": [
        "<h2>4. Further Data Analysis</h2>"
      ]
    },
    {
      "cell_type": "markdown",
      "metadata": {
        "id": "KLg69CBPap0w"
      },
      "source": [
        "A) Please evaluate the importance of each feature of the X values on the y value of the previous exercise using any tree ensamble algorithm and display the results graphically. Please comment your findings. Please tell us what you did and why you did it."
      ]
    },
    {
      "cell_type": "code",
      "metadata": {
        "id": "PqAeafU8ap0w"
      },
      "source": [
        "from sklearn.model_selection import train_test_split\r\n",
        "from sklearn.metrics import classification_report, confusion_matrix\r\n",
        "from sklearn.ensemble import GradientBoostingClassifier\r\n",
        "\r\n",
        "gb_clf = GradientBoostingClassifier(n_estimators=20, learning_rate=0.5,  max_depth=10, random_state=0)\r\n",
        "m0 = gb_clf.fit(X, y)"
      ],
      "execution_count": 34,
      "outputs": []
    },
    {
      "cell_type": "code",
      "metadata": {
        "colab": {
          "base_uri": "https://localhost:8080/"
        },
        "id": "w7HYOS9tsvl3",
        "outputId": "51823588-3938-4932-8d96-314d157e5e51"
      },
      "source": [
        "feature_importance = m0.feature_importances_\r\n",
        "feature_importance"
      ],
      "execution_count": 38,
      "outputs": [
        {
          "output_type": "execute_result",
          "data": {
            "text/plain": [
              "array([0.35908798, 0.32697731, 0.04868228, 0.0490784 , 0.03974727,\n",
              "       0.0439546 , 0.00351232, 0.04041616, 0.03681396, 0.01109305,\n",
              "       0.04063669])"
            ]
          },
          "metadata": {
            "tags": []
          },
          "execution_count": 38
        }
      ]
    },
    {
      "cell_type": "code",
      "metadata": {
        "id": "g6gnQek208uI"
      },
      "source": [
        "features_names = ['CREDIT_LIMIT', 'AGE',\r\n",
        "       'SEX_female', 'SEX_male', 'EDUCATION_graduate school',\r\n",
        "       'EDUCATION_high school', 'EDUCATION_others', 'EDUCATION_university',\r\n",
        "       'MARRIAGE_married', 'MARRIAGE_others', 'MARRIAGE_single']"
      ],
      "execution_count": 39,
      "outputs": []
    },
    {
      "cell_type": "code",
      "metadata": {
        "colab": {
          "base_uri": "https://localhost:8080/",
          "height": 295
        },
        "id": "EowMcDFapPHD",
        "outputId": "f4352484-5fd8-4255-b2b7-63c91d3be1e1"
      },
      "source": [
        "from matplotlib import pyplot as plt\r\n",
        "\r\n",
        "indices = np.argsort(feature_importance)\r\n",
        "\r\n",
        "plt.title('Feature Importances')\r\n",
        "plt.barh(range(len(indices)), feature_importance[indices], color='b', align='center')\r\n",
        "plt.yticks(range(len(indices)), [features_names[i] for i in indices])\r\n",
        "plt.xlabel('Relative Importance')\r\n",
        "plt.show()"
      ],
      "execution_count": 42,
      "outputs": [
        {
          "output_type": "display_data",
          "data": {
            "image/png": "[encoded data removed]",
            "text/plain": [
              "<Figure size 432x288 with 1 Axes>"
            ]
          },
          "metadata": {
            "tags": [],
            "needs_background": "light"
          }
        }
      ]
    },
    {
      "cell_type": "markdown",
      "metadata": {
        "id": "ZKY8_BksqTsz"
      },
      "source": [
        "**We can see that the two most improtant features are \"Credit Limit\" and \"Age\". The importance these features have is more or less one that can define the target variable. We can say that we have only 2 informative features while the rest are simply not. Therefore, we can try and run another model only with these two features are predictors and see the performance. Most probably the model will perform the same as when we have all other features included as well. **"
      ]
    },
    {
      "cell_type": "markdown",
      "metadata": {
        "id": "mLfJKYWVap0w"
      },
      "source": [
        "B) Please assess how accuarely we can predict, whether a customer will default or not using Support Vector Machines. As always plase explain your work."
      ]
    },
    {
      "cell_type": "code",
      "metadata": {
        "id": "7wTrpFV-ap0w"
      },
      "source": [
        "X_train, X_test, y_train, y_test = train_test_split(X, y, test_size=0.33, random_state=42)\r\n",
        "\r\n",
        "from sklearn.svm import SVC\r\n",
        "\r\n",
        "svm_clf = SVC()\r\n",
        "svm_clf = svm_clf.fit(X_train, y_train)\r\n",
        "pred = svm_clf.predict(X_test)"
      ],
      "execution_count": 45,
      "outputs": []
    },
    {
      "cell_type": "code",
      "metadata": {
        "colab": {
          "base_uri": "https://localhost:8080/"
        },
        "id": "mG10VqzluTGI",
        "outputId": "0d3df894-d5de-4403-f532-2eafc5b3e104"
      },
      "source": [
        "from sklearn.metrics import accuracy_score\r\n",
        "acc = accuracy_score(y_test, pred)\r\n",
        "acc"
      ],
      "execution_count": 46,
      "outputs": [
        {
          "output_type": "execute_result",
          "data": {
            "text/plain": [
              "0.7708056095813287"
            ]
          },
          "metadata": {
            "tags": []
          },
          "execution_count": 46
        }
      ]
    },
    {
      "cell_type": "markdown",
      "metadata": {
        "id": "8_-QfvY5ap0w"
      },
      "source": [
        "C) Now let's see how accurate the XGBoost algorithm can predict, whether a customer will default or not better than the previous SVM. Please give us the accuracy score and standard deviation. Choose an appropiate model for testing and training."
      ]
    },
    {
      "cell_type": "code",
      "metadata": {
        "id": "hdnfSxqoap0x",
        "colab": {
          "base_uri": "https://localhost:8080/"
        },
        "outputId": "f6549bf2-3b4b-48c6-ef8d-3906ef47f904"
      },
      "source": [
        "from xgboost import XGBClassifier\r\n",
        "\r\n",
        "xgb_clf = XGBClassifier()\r\n",
        "xgb_clf = xgb_clf.fit(X_train, y_train)\r\n",
        "pred_xgb = xgb_clf.predict(X_test)\r\n",
        "\r\n",
        "acc_xgb = accuracy_score(y_test, pred_xgb)\r\n",
        "acc_xgb"
      ],
      "execution_count": 51,
      "outputs": [
        {
          "output_type": "execute_result",
          "data": {
            "text/plain": [
              "0.770907974204115"
            ]
          },
          "metadata": {
            "tags": []
          },
          "execution_count": 51
        }
      ]
    }
  ]
}